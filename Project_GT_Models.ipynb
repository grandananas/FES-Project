{
 "cells": [
  {
   "cell_type": "code",
   "execution_count": 30,
   "id": "2WpOi64rg2ey",
   "metadata": {
    "id": "2WpOi64rg2ey"
   },
   "outputs": [],
   "source": [
    "import pandas as pd\n",
    "import numpy as np\n",
    "import matplotlib.pyplot as plt\n",
    "import scipy\n",
    "from sklearn.metrics import mean_squared_error as mse\n",
    "\n",
    "import warnings\n",
    "warnings.filterwarnings(\"ignore\")"
   ]
  },
  {
   "cell_type": "markdown",
   "id": "TTu39e5Mg2e6",
   "metadata": {
    "id": "TTu39e5Mg2e6"
   },
   "source": [
    "# Data reading and split"
   ]
  },
  {
   "cell_type": "code",
   "execution_count": 2,
   "id": "ZeMcEEjug2e8",
   "metadata": {
    "id": "ZeMcEEjug2e8"
   },
   "outputs": [],
   "source": [
    "path = 'data_processed/'\n",
    "gdp = pd.read_csv(path + 'gdp_processed.csv')\n",
    "\n",
    "data_quart = pd.read_csv(path + 'quart_gt_processed.csv')\n",
    "data_week = pd.read_csv(path + 'weekly_gt_processed.csv')"
   ]
  },
  {
   "cell_type": "markdown",
   "id": "Dk-Ldg82g2e9",
   "metadata": {
    "id": "Dk-Ldg82g2e9"
   },
   "source": [
    "Удаляем 2008 год, так как в SVI убираем сезонность с помощью log-diff year2year"
   ]
  },
  {
   "cell_type": "code",
   "execution_count": 3,
   "id": "n6_DGe_Ag2e-",
   "metadata": {
    "id": "n6_DGe_Ag2e-"
   },
   "outputs": [],
   "source": [
    "gdp['TIME2'] = gdp['TIME'].apply(lambda x: x[:4])\n",
    "gdp_1 = gdp[gdp['TIME2'] != '2008']"
   ]
  },
  {
   "cell_type": "markdown",
   "id": "Ncdrr5fLg2fA",
   "metadata": {
    "id": "Ncdrr5fLg2fA"
   },
   "source": [
    "Удаляем 4 квартал 2021 года для РФ, т.к. нет ВВП за этот квартал"
   ]
  },
  {
   "cell_type": "code",
   "execution_count": 4,
   "id": "xKR3ISi8g2fB",
   "metadata": {
    "id": "xKR3ISi8g2fB"
   },
   "outputs": [],
   "source": [
    "data_quart.drop(data_quart.index[2079], inplace=True)"
   ]
  },
  {
   "cell_type": "markdown",
   "id": "O6s-ue1Mg2fD",
   "metadata": {
    "id": "O6s-ue1Mg2fD"
   },
   "source": [
    "Условие для отеделния 2021 года и последнего квартала 2020 (служит нулевым для построения понедельного ВВП)"
   ]
  },
  {
   "cell_type": "code",
   "execution_count": 5,
   "id": "jUgoy46-g2fE",
   "metadata": {
    "id": "jUgoy46-g2fE"
   },
   "outputs": [],
   "source": [
    "cond = np.array(([True] * 47 + [False] * 5) * 45)\n",
    "cond_rus = np.array([True] * 47 + [False] * 4)"
   ]
  },
  {
   "cell_type": "markdown",
   "id": "CqzHnHkZg2fF",
   "metadata": {
    "id": "CqzHnHkZg2fF"
   },
   "source": [
    "Разделяем на тест и трэйн"
   ]
  },
  {
   "cell_type": "code",
   "execution_count": 6,
   "id": "20_VEgSGg2fF",
   "metadata": {
    "id": "20_VEgSGg2fF"
   },
   "outputs": [],
   "source": [
    "gdp_train = pd.concat([gdp_1[gdp_1['LOCATION'] != 'RUS'][cond], gdp_1[gdp_1['LOCATION'] == 'RUS'][cond_rus]])\n",
    "gdp_test = pd.concat([gdp_1[gdp_1['LOCATION'] != 'RUS'][~cond], gdp_1[gdp_1['LOCATION'] == 'RUS'][~cond_rus]])"
   ]
  },
  {
   "cell_type": "code",
   "execution_count": 7,
   "id": "7bByctyLg2fF",
   "metadata": {
    "id": "7bByctyLg2fF"
   },
   "outputs": [],
   "source": [
    "data_train = pd.concat([data_quart[data_quart['COUNTRY'] != 'RUS'][cond], \n",
    "                        data_quart[data_quart['COUNTRY'] == 'RUS'][cond_rus]])\n",
    "data_train.reset_index(inplace=True, drop=True)"
   ]
  },
  {
   "cell_type": "code",
   "execution_count": 8,
   "id": "1tI6bTq_g2fG",
   "metadata": {
    "id": "1tI6bTq_g2fG"
   },
   "outputs": [],
   "source": [
    "gdp_train = gdp_train[['LOCATION', 'Value']]\n",
    "\n",
    "gdp_train.reset_index(inplace=True, drop=True)\n",
    "gdp_test.reset_index(inplace=True, drop=True)"
   ]
  },
  {
   "cell_type": "markdown",
   "id": "JP_dUHYgg2fG",
   "metadata": {
    "id": "JP_dUHYgg2fG"
   },
   "source": [
    "Считаем разницу между соседними кварталами"
   ]
  },
  {
   "cell_type": "code",
   "execution_count": 9,
   "id": "UBL1ZUiIg2fH",
   "metadata": {
    "id": "UBL1ZUiIg2fH"
   },
   "outputs": [],
   "source": [
    "arr1 = np.array(gdp_test[gdp_test['LOCATION'] != 'RUS'][\"Value\"])\n",
    "arr = list(np.array(gdp_test[gdp_test['LOCATION'] != 'RUS'][\"Value\"])[1:])\n",
    "arr.append(0)\n",
    "\n",
    "deltas = (np.array(arr) - arr1) / 13\n",
    "\n",
    "matr = []\n",
    "for i in range(1, 14):\n",
    "    matr.append(list(arr1 + i * deltas))"
   ]
  },
  {
   "cell_type": "markdown",
   "id": "EcYoJ8iIg2fH",
   "metadata": {
    "id": "EcYoJ8iIg2fH"
   },
   "source": [
    "Непосредственно строим понедельный прирост ВВП"
   ]
  },
  {
   "cell_type": "code",
   "execution_count": 10,
   "id": "hSDV3FmKg2fH",
   "metadata": {
    "id": "hSDV3FmKg2fH"
   },
   "outputs": [],
   "source": [
    "arr1 = np.array(gdp_test[gdp_test['LOCATION'] == 'RUS'][\"Value\"])\n",
    "\n",
    "arr = list(np.array(gdp_test[gdp_test['LOCATION'] == 'RUS'][\"Value\"])[1:])\n",
    "arr.append(0)\n",
    "\n",
    "deltas = (np.array(arr) - arr1) / 13\n",
    "\n",
    "matr2 = []\n",
    "for i in range(1, 14):\n",
    "    matr2.append(list(arr1 + i * deltas))"
   ]
  },
  {
   "cell_type": "code",
   "execution_count": 11,
   "id": "-e-BnL91g2fI",
   "metadata": {
    "id": "-e-BnL91g2fI"
   },
   "outputs": [],
   "source": [
    "cond2 = ([True] * 4 + [False]) * 45"
   ]
  },
  {
   "cell_type": "markdown",
   "id": "vm5-L4G-g2fI",
   "metadata": {
    "id": "vm5-L4G-g2fI"
   },
   "source": [
    "Получаем понедельный прирост для РФ и др стран"
   ]
  },
  {
   "cell_type": "code",
   "execution_count": 12,
   "id": "OYBq453Dg2fI",
   "metadata": {
    "id": "OYBq453Dg2fI",
    "outputId": "4574c3a2-d703-4263-b9e8-5ce6f400f308"
   },
   "outputs": [],
   "source": [
    "gdp_test2 = np.array(matr).T[cond2]\n",
    "gdp_test2_rus = np.array(matr2).T[:3]"
   ]
  },
  {
   "cell_type": "markdown",
   "id": "CpaE6H3ug2fJ",
   "metadata": {
    "id": "CpaE6H3ug2fJ"
   },
   "source": [
    "Объединяем результаты"
   ]
  },
  {
   "cell_type": "code",
   "execution_count": 13,
   "id": "ImKDfRwUg2fJ",
   "metadata": {
    "id": "ImKDfRwUg2fJ"
   },
   "outputs": [],
   "source": [
    "gdp_test_final = np.array([])\n",
    "\n",
    "for i in list(gdp_test2):\n",
    "    gdp_test_final = np.hstack([gdp_test_final, i])\n",
    "    \n",
    "for i in list(gdp_test2_rus):\n",
    "    gdp_test_final = np.hstack([gdp_test_final, i])"
   ]
  },
  {
   "cell_type": "code",
   "execution_count": 14,
   "id": "MUfNo6cyg2fK",
   "metadata": {
    "id": "MUfNo6cyg2fK"
   },
   "outputs": [],
   "source": [
    "locs = []\n",
    "for tick in gdp_test['LOCATION'].unique():\n",
    "    const = 52\n",
    "    if tick =='RUS':\n",
    "        const = 39\n",
    "    locs += [tick] * const"
   ]
  },
  {
   "cell_type": "code",
   "execution_count": 15,
   "id": "6839eef6",
   "metadata": {},
   "outputs": [],
   "source": [
    "gdp_test_final = pd.DataFrame(gdp_test_final, columns=['value'])\n",
    "\n",
    "gdp_test_final['location'] = locs\n",
    "gdp_test_final = gdp_test_final.sort_values(by=['location'], kind='stable')\n",
    "\n",
    "gdp_test_final = pd.get_dummies(gdp_test_final)"
   ]
  },
  {
   "cell_type": "code",
   "execution_count": 16,
   "id": "13-uvxAIg2fK",
   "metadata": {
    "id": "13-uvxAIg2fK"
   },
   "outputs": [],
   "source": [
    "data_week_final = pd.concat([data_week[data_week['COUNTRY'] != 'RUS'], \n",
    "                        data_week[data_week['COUNTRY'] == 'RUS'].loc[2028:2066]])\n",
    "data_week_final = data_week_final.sort_values(by=['COUNTRY'], kind='stable')\n",
    "\n",
    "data_week_final = pd.get_dummies(data_week_final)"
   ]
  },
  {
   "cell_type": "markdown",
   "id": "2liKxoAvg2fL",
   "metadata": {
    "id": "2liKxoAvg2fL"
   },
   "source": [
    "Разделение получившихся данных на валидацию и тест (делим пополам, так как в целом нам хватает данных для достаточно репрезентативных валидации и теста)"
   ]
  },
  {
   "cell_type": "code",
   "execution_count": 17,
   "id": "Dz4rofd1g2fL",
   "metadata": {
    "id": "Dz4rofd1g2fL"
   },
   "outputs": [],
   "source": [
    "val_cond = np.array(([True] * 26 + [False] * 26) * 39 + \n",
    "                     [True] * 20 + [False] * 19 + \n",
    "                    ([True] * 26 + [False] * 26) * 6)"
   ]
  },
  {
   "cell_type": "code",
   "execution_count": 18,
   "id": "TrqW4x4Ug2fL",
   "metadata": {
    "id": "TrqW4x4Ug2fL"
   },
   "outputs": [],
   "source": [
    "X_val, X_test = data_week_final[val_cond], data_week_final[~val_cond]\n",
    "y_val, y_test = gdp_test_final[val_cond]['value'], gdp_test_final[~val_cond]['value']\n",
    "\n",
    "X_val.reset_index(drop=True, inplace=True)\n",
    "y_val.reset_index(drop=True, inplace=True)\n",
    "X_test.reset_index(drop=True, inplace=True)\n",
    "y_test.reset_index(drop=True, inplace=True)"
   ]
  },
  {
   "cell_type": "markdown",
   "id": "61f3f346",
   "metadata": {},
   "source": [
    "Тренировочная выборка"
   ]
  },
  {
   "cell_type": "code",
   "execution_count": 19,
   "id": "peyXPzgUg2fL",
   "metadata": {
    "id": "peyXPzgUg2fL"
   },
   "outputs": [],
   "source": [
    "data_train = data_train.sort_values(by=['COUNTRY', 'date'], kind='stable')\n",
    "gdp_train = gdp_train.sort_values(by=['LOCATION'], kind='stable')\n",
    "data_train.drop(columns=['date'], inplace=True)\n",
    "\n",
    "X_train = pd.get_dummies(data_train)\n",
    "y_train = pd.get_dummies(gdp_train)[\"Value\"]"
   ]
  },
  {
   "cell_type": "code",
   "execution_count": 20,
   "id": "ea4b53cc",
   "metadata": {},
   "outputs": [],
   "source": [
    "X_train.reset_index(drop=True, inplace=True)\n",
    "y_train.reset_index(drop=True, inplace=True)"
   ]
  },
  {
   "cell_type": "markdown",
   "id": "ceG6tNxmg997",
   "metadata": {
    "id": "ceG6tNxmg997"
   },
   "source": [
    "# Models training"
   ]
  },
  {
   "cell_type": "markdown",
   "id": "WtPP7Uw7hSmW",
   "metadata": {
    "id": "WtPP7Uw7hSmW"
   },
   "source": [
    "### Статистические модели"
   ]
  },
  {
   "cell_type": "markdown",
   "id": "jafTCwcYhYX2",
   "metadata": {
    "id": "jafTCwcYhYX2"
   },
   "source": [
    "Из-за того, что часть библиотек для статистических моделей не работала корректно в JupyterNotebook, кроме того, для них нужен несколько другая предобработка, поэтому тут будет небольшой вступительный код по предобработке данных (он основывается на том, что было выше). Кроме того, тут не будет использоваться валидационная выборка, поскольку не так много гиперпараметров, которые надо оптимизировать."
   ]
  },
  {
   "cell_type": "code",
   "execution_count": null,
   "id": "NW8eOZvIhW0w",
   "metadata": {
    "colab": {
     "base_uri": "https://localhost:8080/"
    },
    "id": "NW8eOZvIhW0w",
    "outputId": "da9ef867-0f58-4d3c-979d-c09e1937290d"
   },
   "outputs": [],
   "source": [
    "from google.colab import drive\n",
    "\n",
    "drive.mount('/content/drive')"
   ]
  },
  {
   "cell_type": "code",
   "execution_count": null,
   "id": "g4rjLET6h7vj",
   "metadata": {
    "id": "g4rjLET6h7vj"
   },
   "outputs": [],
   "source": [
    "data = pd.read_csv('/content/drive/MyDrive/quart_gt_processed.csv').drop(columns=['date'])\n",
    "\n",
    "\n",
    "# создадим колонку с датами\n",
    "date = pd.read_csv('/content/drive/MyDrive/GoogleTrends_BG.csv')['date'][15::3]\n",
    "date = date.reset_index(drop=True)\n",
    "x = date.copy()\n",
    "for i in range(45):\n",
    "    x = pd.concat((x, date), axis=0)\n",
    "x = x.reset_index(drop=True)\n",
    "data_touse = pd.concat([data, x], axis=1)\n",
    "\n",
    "gdp = pd.read_csv('/content/drive/MyDrive/gdp_processed.csv')\n",
    "gdp_1 = gdp[(gdp['TIME'] != '2008-Q1') &  (gdp['TIME'] != '2008-Q2') & (gdp['TIME'] != '2008-Q3') & (gdp['TIME'] != '2008-Q4')]\n",
    "# уберем индекс по России (нет ВВП за этот период)\n",
    "data_touse.drop(data_touse.index[2079], inplace=True)"
   ]
  },
  {
   "cell_type": "code",
   "execution_count": 4,
   "id": "rKVj-RMjiPEI",
   "metadata": {
    "id": "rKVj-RMjiPEI"
   },
   "outputs": [],
   "source": [
    "gdp_1 = gdp_1.rename(columns={'LOCATION': 'COUNTRY'})\n",
    "gdp_1 = gdp_1.sort_values(['COUNTRY', 'TIME']).reset_index()"
   ]
  },
  {
   "cell_type": "code",
   "execution_count": 5,
   "id": "9bQNG5Ygh_7k",
   "metadata": {
    "id": "9bQNG5Ygh_7k"
   },
   "outputs": [],
   "source": [
    "data_full = pd.concat([data_touse.sort_values(['COUNTRY', 'date']).reset_index(), gdp_1['Value']], axis=1)"
   ]
  },
  {
   "cell_type": "code",
   "execution_count": null,
   "id": "HEetOODljWMJ",
   "metadata": {
    "colab": {
     "base_uri": "https://localhost:8080/"
    },
    "id": "HEetOODljWMJ",
    "outputId": "023ee2c9-fc97-4f31-fe99-d5f17b92da69"
   },
   "outputs": [],
   "source": [
    "# !pip install orbit-ml\n",
    "# !pip install sktime[all_extras]"
   ]
  },
  {
   "cell_type": "code",
   "execution_count": 6,
   "id": "Hl2rTCCmlZDe",
   "metadata": {
    "id": "Hl2rTCCmlZDe"
   },
   "outputs": [],
   "source": [
    "from sktime.forecasting.base import ForecastingHorizon\n",
    "from sktime.forecasting.exp_smoothing import ExponentialSmoothing\n",
    "from orbit.models.lgt import LGT\n",
    "from orbit.models.dlt import DLT"
   ]
  },
  {
   "cell_type": "code",
   "execution_count": 7,
   "id": "K1r0Nz1Llrqd",
   "metadata": {
    "id": "K1r0Nz1Llrqd"
   },
   "outputs": [],
   "source": [
    "# прочитаем недельные данные\n",
    "data_week = pd.read_csv('/content/drive/MyDrive/weekly_gt_processed.csv')\n",
    "\n",
    "# для того, что модели выдавали корректное предсказание, надо сделать даты\n",
    "date = []\n",
    "for i in range(52):\n",
    "    month = (1 + i * 3) % 12\n",
    "    mask = (month < 10) * '0'\n",
    "    year = 2021 + (1 + i * 3) // 12\n",
    "    k = str(year) + '-' + mask + str(month) + '-01'\n",
    "    date.append(k)\n",
    "date = pd.Series(date, name='date')"
   ]
  },
  {
   "cell_type": "code",
   "execution_count": 24,
   "id": "Uc34L1cZmDX9",
   "metadata": {
    "id": "Uc34L1cZmDX9"
   },
   "outputs": [],
   "source": [
    "def preprocessing(country, orbit=True):\n",
    "    X_train = data_full[data_full['COUNTRY'] == country].iloc[:47]\n",
    "    # тут мы получаем ВВП по кварталам за тестовый период\n",
    "    y_test = data_full[data_full['COUNTRY'] == country]['Value'].iloc[47:]\n",
    "    # линейная аппроксимация ВВП по неделям\n",
    "    arr = list(y_test[1:])\n",
    "    deltas = (np.array(arr) - y_test[:-1].values) / 13\n",
    "\n",
    "    y_week = []\n",
    "    for j in range(len(deltas)):\n",
    "        for k in range(1, 14):\n",
    "            y_week.append(y_test.iloc[j] +  k * deltas[j])\n",
    "    y_week = pd.Series(y_week, name='Value')\n",
    "\n",
    "    dt = pd.Series(date[:len(y_week)], name='date')\n",
    "    \n",
    "    # тест представляет собой недельные данные \n",
    "    X_test = pd.concat([data_week[data_week['COUNTRY'] == country].iloc[:len(y_week)].reset_index(), dt], axis=1)\n",
    "    X_test = pd.concat([X_test, y_week], axis=1)\n",
    "    # если имеем дело не с библиотекой орбит, то надо сделать ряд, с которым будет удобно работать\n",
    "    if not orbit:\n",
    "        trains_ts = pd.Series(data=X_train['Value'].values, index=X_train['date'].values)\n",
    "        trains_ts.index.freq=\"Q\"\n",
    "        trains_ts.index = pd.PeriodIndex(trains_ts.index, freq=\"Q\")\n",
    "\n",
    "        test_ts = pd.Series(data=X_test['Value'].values, index=X_test['date'].values)\n",
    "        test_ts.index.freq= \"Q\"\n",
    "        test_ts.index = pd.PeriodIndex(test_ts.index, freq=\"Q\")\n",
    "\n",
    "        fh = ForecastingHorizon(test_ts.index, is_relative=False)\n",
    "\n",
    "        return trains_ts, test_ts, fh\n",
    "    return X_train, X_test"
   ]
  },
  {
   "cell_type": "markdown",
   "id": "YdIzUWFRmHun",
   "metadata": {
    "id": "YdIzUWFRmHun"
   },
   "source": [
    "#### DLT"
   ]
  },
  {
   "cell_type": "code",
   "execution_count": 25,
   "id": "0juZpsYomTp1",
   "metadata": {
    "colab": {
     "base_uri": "https://localhost:8080/"
    },
    "id": "0juZpsYomTp1",
    "outputId": "56b462fc-9e39-491c-8fd9-bdbbcfb5c354",
    "scrolled": true
   },
   "outputs": [
    {
     "name": "stderr",
     "output_type": "stream",
     "text": [
      "INFO:orbit:Sampling (PyStan) with chains: 4, cores: 2, temperature: 1.000, warmups (per chain): 225 and samples(per chain): 25.\n",
      "WARNING:pystan:n_eff / iter below 0.001 indicates that the effective sample size has likely been overestimated\n",
      "WARNING:pystan:Rhat above 1.1 or below 0.9 indicates that the chains very likely have not mixed\n",
      "INFO:orbit:Sampling (PyStan) with chains: 4, cores: 2, temperature: 1.000, warmups (per chain): 225 and samples(per chain): 25.\n"
     ]
    },
    {
     "name": "stdout",
     "output_type": "stream",
     "text": [
      "ARG : 109.01327366341094\n"
     ]
    },
    {
     "name": "stderr",
     "output_type": "stream",
     "text": [
      "WARNING:pystan:n_eff / iter below 0.001 indicates that the effective sample size has likely been overestimated\n",
      "WARNING:pystan:Rhat above 1.1 or below 0.9 indicates that the chains very likely have not mixed\n",
      "WARNING:pystan:1 of 100 iterations ended with a divergence (1 %).\n",
      "WARNING:pystan:Try running with adapt_delta larger than 0.8 to remove the divergences.\n",
      "INFO:orbit:Sampling (PyStan) with chains: 4, cores: 2, temperature: 1.000, warmups (per chain): 225 and samples(per chain): 25.\n"
     ]
    },
    {
     "name": "stdout",
     "output_type": "stream",
     "text": [
      "AUS : 166.92494108919283\n"
     ]
    },
    {
     "name": "stderr",
     "output_type": "stream",
     "text": [
      "WARNING:pystan:n_eff / iter below 0.001 indicates that the effective sample size has likely been overestimated\n",
      "WARNING:pystan:Rhat above 1.1 or below 0.9 indicates that the chains very likely have not mixed\n",
      "INFO:orbit:Sampling (PyStan) with chains: 4, cores: 2, temperature: 1.000, warmups (per chain): 225 and samples(per chain): 25.\n"
     ]
    },
    {
     "name": "stdout",
     "output_type": "stream",
     "text": [
      "AUT : 57.534313175416735\n"
     ]
    },
    {
     "name": "stderr",
     "output_type": "stream",
     "text": [
      "WARNING:pystan:n_eff / iter below 0.001 indicates that the effective sample size has likely been overestimated\n",
      "WARNING:pystan:Rhat above 1.1 or below 0.9 indicates that the chains very likely have not mixed\n",
      "INFO:orbit:Sampling (PyStan) with chains: 4, cores: 2, temperature: 1.000, warmups (per chain): 225 and samples(per chain): 25.\n"
     ]
    },
    {
     "name": "stdout",
     "output_type": "stream",
     "text": [
      "BEL : 556.266795210954\n"
     ]
    },
    {
     "name": "stderr",
     "output_type": "stream",
     "text": [
      "WARNING:pystan:n_eff / iter below 0.001 indicates that the effective sample size has likely been overestimated\n",
      "WARNING:pystan:Rhat above 1.1 or below 0.9 indicates that the chains very likely have not mixed\n",
      "INFO:orbit:Sampling (PyStan) with chains: 4, cores: 2, temperature: 1.000, warmups (per chain): 225 and samples(per chain): 25.\n"
     ]
    },
    {
     "name": "stdout",
     "output_type": "stream",
     "text": [
      "BGR : 2.2942851291238835\n"
     ]
    },
    {
     "name": "stderr",
     "output_type": "stream",
     "text": [
      "WARNING:pystan:n_eff / iter below 0.001 indicates that the effective sample size has likely been overestimated\n",
      "WARNING:pystan:Rhat above 1.1 or below 0.9 indicates that the chains very likely have not mixed\n",
      "INFO:orbit:Sampling (PyStan) with chains: 4, cores: 2, temperature: 1.000, warmups (per chain): 225 and samples(per chain): 25.\n"
     ]
    },
    {
     "name": "stdout",
     "output_type": "stream",
     "text": [
      "BRA : 254.81833261011934\n"
     ]
    },
    {
     "name": "stderr",
     "output_type": "stream",
     "text": [
      "WARNING:pystan:n_eff / iter below 0.001 indicates that the effective sample size has likely been overestimated\n",
      "WARNING:pystan:Rhat above 1.1 or below 0.9 indicates that the chains very likely have not mixed\n",
      "INFO:orbit:Sampling (PyStan) with chains: 4, cores: 2, temperature: 1.000, warmups (per chain): 225 and samples(per chain): 25.\n"
     ]
    },
    {
     "name": "stdout",
     "output_type": "stream",
     "text": [
      "CAN : 401.4738038416233\n"
     ]
    },
    {
     "name": "stderr",
     "output_type": "stream",
     "text": [
      "WARNING:pystan:n_eff / iter below 0.001 indicates that the effective sample size has likely been overestimated\n",
      "WARNING:pystan:Rhat above 1.1 or below 0.9 indicates that the chains very likely have not mixed\n",
      "INFO:orbit:Sampling (PyStan) with chains: 4, cores: 2, temperature: 1.000, warmups (per chain): 225 and samples(per chain): 25.\n"
     ]
    },
    {
     "name": "stdout",
     "output_type": "stream",
     "text": [
      "CHE : 97.30752332862133\n"
     ]
    },
    {
     "name": "stderr",
     "output_type": "stream",
     "text": [
      "WARNING:pystan:n_eff / iter below 0.001 indicates that the effective sample size has likely been overestimated\n",
      "WARNING:pystan:Rhat above 1.1 or below 0.9 indicates that the chains very likely have not mixed\n",
      "INFO:orbit:Sampling (PyStan) with chains: 4, cores: 2, temperature: 1.000, warmups (per chain): 225 and samples(per chain): 25.\n"
     ]
    },
    {
     "name": "stdout",
     "output_type": "stream",
     "text": [
      "CHL : 521.6656492222193\n"
     ]
    },
    {
     "name": "stderr",
     "output_type": "stream",
     "text": [
      "WARNING:pystan:n_eff / iter below 0.001 indicates that the effective sample size has likely been overestimated\n",
      "WARNING:pystan:Rhat above 1.1 or below 0.9 indicates that the chains very likely have not mixed\n",
      "INFO:orbit:Sampling (PyStan) with chains: 4, cores: 2, temperature: 1.000, warmups (per chain): 225 and samples(per chain): 25.\n"
     ]
    },
    {
     "name": "stdout",
     "output_type": "stream",
     "text": [
      "COL : 463.1498492681918\n"
     ]
    },
    {
     "name": "stderr",
     "output_type": "stream",
     "text": [
      "WARNING:pystan:n_eff / iter below 0.001 indicates that the effective sample size has likely been overestimated\n",
      "WARNING:pystan:Rhat above 1.1 or below 0.9 indicates that the chains very likely have not mixed\n",
      "INFO:orbit:Sampling (PyStan) with chains: 4, cores: 2, temperature: 1.000, warmups (per chain): 225 and samples(per chain): 25.\n"
     ]
    },
    {
     "name": "stdout",
     "output_type": "stream",
     "text": [
      "CRI : 204.832267457229\n"
     ]
    },
    {
     "name": "stderr",
     "output_type": "stream",
     "text": [
      "WARNING:pystan:n_eff / iter below 0.001 indicates that the effective sample size has likely been overestimated\n",
      "WARNING:pystan:Rhat above 1.1 or below 0.9 indicates that the chains very likely have not mixed\n",
      "INFO:orbit:Sampling (PyStan) with chains: 4, cores: 2, temperature: 1.000, warmups (per chain): 225 and samples(per chain): 25.\n"
     ]
    },
    {
     "name": "stdout",
     "output_type": "stream",
     "text": [
      "CZE : 51.24212676124019\n"
     ]
    },
    {
     "name": "stderr",
     "output_type": "stream",
     "text": [
      "WARNING:pystan:n_eff / iter below 0.001 indicates that the effective sample size has likely been overestimated\n",
      "WARNING:pystan:Rhat above 1.1 or below 0.9 indicates that the chains very likely have not mixed\n",
      "INFO:orbit:Sampling (PyStan) with chains: 4, cores: 2, temperature: 1.000, warmups (per chain): 225 and samples(per chain): 25.\n"
     ]
    },
    {
     "name": "stdout",
     "output_type": "stream",
     "text": [
      "DEU : 221.30878725181265\n"
     ]
    },
    {
     "name": "stderr",
     "output_type": "stream",
     "text": [
      "WARNING:pystan:n_eff / iter below 0.001 indicates that the effective sample size has likely been overestimated\n",
      "WARNING:pystan:Rhat above 1.1 or below 0.9 indicates that the chains very likely have not mixed\n",
      "INFO:orbit:Sampling (PyStan) with chains: 4, cores: 2, temperature: 1.000, warmups (per chain): 225 and samples(per chain): 25.\n"
     ]
    },
    {
     "name": "stdout",
     "output_type": "stream",
     "text": [
      "DNK : 74.23193349217685\n"
     ]
    },
    {
     "name": "stderr",
     "output_type": "stream",
     "text": [
      "WARNING:pystan:n_eff / iter below 0.001 indicates that the effective sample size has likely been overestimated\n",
      "WARNING:pystan:Rhat above 1.1 or below 0.9 indicates that the chains very likely have not mixed\n",
      "INFO:orbit:Sampling (PyStan) with chains: 4, cores: 2, temperature: 1.000, warmups (per chain): 225 and samples(per chain): 25.\n"
     ]
    },
    {
     "name": "stdout",
     "output_type": "stream",
     "text": [
      "ESP : 636.4605844874516\n"
     ]
    },
    {
     "name": "stderr",
     "output_type": "stream",
     "text": [
      "WARNING:pystan:n_eff / iter below 0.001 indicates that the effective sample size has likely been overestimated\n",
      "WARNING:pystan:Rhat above 1.1 or below 0.9 indicates that the chains very likely have not mixed\n",
      "INFO:orbit:Sampling (PyStan) with chains: 4, cores: 2, temperature: 1.000, warmups (per chain): 225 and samples(per chain): 25.\n"
     ]
    },
    {
     "name": "stdout",
     "output_type": "stream",
     "text": [
      "EST : 61.88396601145398\n"
     ]
    },
    {
     "name": "stderr",
     "output_type": "stream",
     "text": [
      "WARNING:pystan:n_eff / iter below 0.001 indicates that the effective sample size has likely been overestimated\n",
      "WARNING:pystan:Rhat above 1.1 or below 0.9 indicates that the chains very likely have not mixed\n",
      "INFO:orbit:Sampling (PyStan) with chains: 4, cores: 2, temperature: 1.000, warmups (per chain): 225 and samples(per chain): 25.\n"
     ]
    },
    {
     "name": "stdout",
     "output_type": "stream",
     "text": [
      "FIN : 7.822853715432239\n"
     ]
    },
    {
     "name": "stderr",
     "output_type": "stream",
     "text": [
      "WARNING:pystan:n_eff / iter below 0.001 indicates that the effective sample size has likely been overestimated\n",
      "WARNING:pystan:Rhat above 1.1 or below 0.9 indicates that the chains very likely have not mixed\n",
      "WARNING:pystan:4 of 100 iterations ended with a divergence (4 %).\n",
      "WARNING:pystan:Try running with adapt_delta larger than 0.8 to remove the divergences.\n",
      "INFO:orbit:Sampling (PyStan) with chains: 4, cores: 2, temperature: 1.000, warmups (per chain): 225 and samples(per chain): 25.\n"
     ]
    },
    {
     "name": "stdout",
     "output_type": "stream",
     "text": [
      "FRA : 141.36195149406169\n"
     ]
    },
    {
     "name": "stderr",
     "output_type": "stream",
     "text": [
      "WARNING:pystan:n_eff / iter below 0.001 indicates that the effective sample size has likely been overestimated\n",
      "WARNING:pystan:Rhat above 1.1 or below 0.9 indicates that the chains very likely have not mixed\n",
      "INFO:orbit:Sampling (PyStan) with chains: 4, cores: 2, temperature: 1.000, warmups (per chain): 225 and samples(per chain): 25.\n"
     ]
    },
    {
     "name": "stdout",
     "output_type": "stream",
     "text": [
      "GBR : 181.21018778033633\n"
     ]
    },
    {
     "name": "stderr",
     "output_type": "stream",
     "text": [
      "WARNING:pystan:n_eff / iter below 0.001 indicates that the effective sample size has likely been overestimated\n",
      "WARNING:pystan:Rhat above 1.1 or below 0.9 indicates that the chains very likely have not mixed\n",
      "INFO:orbit:Sampling (PyStan) with chains: 4, cores: 2, temperature: 1.000, warmups (per chain): 225 and samples(per chain): 25.\n"
     ]
    },
    {
     "name": "stdout",
     "output_type": "stream",
     "text": [
      "GRC : 507.88321115662745\n"
     ]
    },
    {
     "name": "stderr",
     "output_type": "stream",
     "text": [
      "WARNING:pystan:n_eff / iter below 0.001 indicates that the effective sample size has likely been overestimated\n",
      "WARNING:pystan:Rhat above 1.1 or below 0.9 indicates that the chains very likely have not mixed\n",
      "INFO:orbit:Sampling (PyStan) with chains: 4, cores: 2, temperature: 1.000, warmups (per chain): 225 and samples(per chain): 25.\n"
     ]
    },
    {
     "name": "stdout",
     "output_type": "stream",
     "text": [
      "HUN : 119.4936002830929\n"
     ]
    },
    {
     "name": "stderr",
     "output_type": "stream",
     "text": [
      "WARNING:pystan:n_eff / iter below 0.001 indicates that the effective sample size has likely been overestimated\n",
      "WARNING:pystan:Rhat above 1.1 or below 0.9 indicates that the chains very likely have not mixed\n",
      "INFO:orbit:Sampling (PyStan) with chains: 4, cores: 2, temperature: 1.000, warmups (per chain): 225 and samples(per chain): 25.\n"
     ]
    },
    {
     "name": "stdout",
     "output_type": "stream",
     "text": [
      "IDN : 16.837279232980187\n"
     ]
    },
    {
     "name": "stderr",
     "output_type": "stream",
     "text": [
      "WARNING:pystan:n_eff / iter below 0.001 indicates that the effective sample size has likely been overestimated\n",
      "WARNING:pystan:Rhat above 1.1 or below 0.9 indicates that the chains very likely have not mixed\n",
      "INFO:orbit:Sampling (PyStan) with chains: 4, cores: 2, temperature: 1.000, warmups (per chain): 225 and samples(per chain): 25.\n"
     ]
    },
    {
     "name": "stdout",
     "output_type": "stream",
     "text": [
      "IND : 351.964432170228\n"
     ]
    },
    {
     "name": "stderr",
     "output_type": "stream",
     "text": [
      "WARNING:pystan:n_eff / iter below 0.001 indicates that the effective sample size has likely been overestimated\n",
      "WARNING:pystan:Rhat above 1.1 or below 0.9 indicates that the chains very likely have not mixed\n",
      "INFO:orbit:Sampling (PyStan) with chains: 4, cores: 2, temperature: 1.000, warmups (per chain): 225 and samples(per chain): 25.\n"
     ]
    },
    {
     "name": "stdout",
     "output_type": "stream",
     "text": [
      "IRL : 209.22112879970277\n"
     ]
    },
    {
     "name": "stderr",
     "output_type": "stream",
     "text": [
      "WARNING:pystan:n_eff / iter below 0.001 indicates that the effective sample size has likely been overestimated\n",
      "WARNING:pystan:Rhat above 1.1 or below 0.9 indicates that the chains very likely have not mixed\n",
      "INFO:orbit:Sampling (PyStan) with chains: 4, cores: 2, temperature: 1.000, warmups (per chain): 225 and samples(per chain): 25.\n"
     ]
    },
    {
     "name": "stdout",
     "output_type": "stream",
     "text": [
      "ISL : 40.132188518064694\n"
     ]
    },
    {
     "name": "stderr",
     "output_type": "stream",
     "text": [
      "WARNING:pystan:n_eff / iter below 0.001 indicates that the effective sample size has likely been overestimated\n",
      "WARNING:pystan:Rhat above 1.1 or below 0.9 indicates that the chains very likely have not mixed\n",
      "INFO:orbit:Sampling (PyStan) with chains: 4, cores: 2, temperature: 1.000, warmups (per chain): 225 and samples(per chain): 25.\n"
     ]
    },
    {
     "name": "stdout",
     "output_type": "stream",
     "text": [
      "ISR : 40.27059479208815\n"
     ]
    },
    {
     "name": "stderr",
     "output_type": "stream",
     "text": [
      "WARNING:pystan:n_eff / iter below 0.001 indicates that the effective sample size has likely been overestimated\n",
      "WARNING:pystan:Rhat above 1.1 or below 0.9 indicates that the chains very likely have not mixed\n",
      "INFO:orbit:Sampling (PyStan) with chains: 4, cores: 2, temperature: 1.000, warmups (per chain): 225 and samples(per chain): 25.\n"
     ]
    },
    {
     "name": "stdout",
     "output_type": "stream",
     "text": [
      "ITA : 83.2201834753984\n"
     ]
    },
    {
     "name": "stderr",
     "output_type": "stream",
     "text": [
      "WARNING:pystan:n_eff / iter below 0.001 indicates that the effective sample size has likely been overestimated\n",
      "WARNING:pystan:Rhat above 1.1 or below 0.9 indicates that the chains very likely have not mixed\n",
      "INFO:orbit:Sampling (PyStan) with chains: 4, cores: 2, temperature: 1.000, warmups (per chain): 225 and samples(per chain): 25.\n"
     ]
    },
    {
     "name": "stdout",
     "output_type": "stream",
     "text": [
      "JPN : 141.18337512029728\n"
     ]
    },
    {
     "name": "stderr",
     "output_type": "stream",
     "text": [
      "WARNING:pystan:n_eff / iter below 0.001 indicates that the effective sample size has likely been overestimated\n",
      "WARNING:pystan:Rhat above 1.1 or below 0.9 indicates that the chains very likely have not mixed\n",
      "INFO:orbit:Sampling (PyStan) with chains: 4, cores: 2, temperature: 1.000, warmups (per chain): 225 and samples(per chain): 25.\n"
     ]
    },
    {
     "name": "stdout",
     "output_type": "stream",
     "text": [
      "KOR : 43.73624717368245\n"
     ]
    },
    {
     "name": "stderr",
     "output_type": "stream",
     "text": [
      "WARNING:pystan:n_eff / iter below 0.001 indicates that the effective sample size has likely been overestimated\n",
      "WARNING:pystan:Rhat above 1.1 or below 0.9 indicates that the chains very likely have not mixed\n",
      "INFO:orbit:Sampling (PyStan) with chains: 4, cores: 2, temperature: 1.000, warmups (per chain): 225 and samples(per chain): 25.\n"
     ]
    },
    {
     "name": "stdout",
     "output_type": "stream",
     "text": [
      "LTU : 21.992047255996873\n"
     ]
    },
    {
     "name": "stderr",
     "output_type": "stream",
     "text": [
      "WARNING:pystan:n_eff / iter below 0.001 indicates that the effective sample size has likely been overestimated\n",
      "WARNING:pystan:Rhat above 1.1 or below 0.9 indicates that the chains very likely have not mixed\n",
      "WARNING:pystan:1 of 100 iterations ended with a divergence (1 %).\n",
      "WARNING:pystan:Try running with adapt_delta larger than 0.8 to remove the divergences.\n",
      "INFO:orbit:Sampling (PyStan) with chains: 4, cores: 2, temperature: 1.000, warmups (per chain): 225 and samples(per chain): 25.\n"
     ]
    },
    {
     "name": "stdout",
     "output_type": "stream",
     "text": [
      "LUX : 126.7057424034127\n"
     ]
    },
    {
     "name": "stderr",
     "output_type": "stream",
     "text": [
      "WARNING:pystan:n_eff / iter below 0.001 indicates that the effective sample size has likely been overestimated\n",
      "WARNING:pystan:Rhat above 1.1 or below 0.9 indicates that the chains very likely have not mixed\n",
      "INFO:orbit:Sampling (PyStan) with chains: 4, cores: 2, temperature: 1.000, warmups (per chain): 225 and samples(per chain): 25.\n"
     ]
    },
    {
     "name": "stdout",
     "output_type": "stream",
     "text": [
      "LVA : 22.256090499042788\n"
     ]
    },
    {
     "name": "stderr",
     "output_type": "stream",
     "text": [
      "WARNING:pystan:n_eff / iter below 0.001 indicates that the effective sample size has likely been overestimated\n",
      "WARNING:pystan:Rhat above 1.1 or below 0.9 indicates that the chains very likely have not mixed\n",
      "INFO:orbit:Sampling (PyStan) with chains: 4, cores: 2, temperature: 1.000, warmups (per chain): 225 and samples(per chain): 25.\n"
     ]
    },
    {
     "name": "stdout",
     "output_type": "stream",
     "text": [
      "MEX : 512.6267751854996\n"
     ]
    },
    {
     "name": "stderr",
     "output_type": "stream",
     "text": [
      "WARNING:pystan:n_eff / iter below 0.001 indicates that the effective sample size has likely been overestimated\n",
      "WARNING:pystan:Rhat above 1.1 or below 0.9 indicates that the chains very likely have not mixed\n",
      "INFO:orbit:Sampling (PyStan) with chains: 4, cores: 2, temperature: 1.000, warmups (per chain): 225 and samples(per chain): 25.\n"
     ]
    },
    {
     "name": "stdout",
     "output_type": "stream",
     "text": [
      "NLD : 17.914466699352168\n"
     ]
    },
    {
     "name": "stderr",
     "output_type": "stream",
     "text": [
      "WARNING:pystan:n_eff / iter below 0.001 indicates that the effective sample size has likely been overestimated\n",
      "WARNING:pystan:Rhat above 1.1 or below 0.9 indicates that the chains very likely have not mixed\n",
      "INFO:orbit:Sampling (PyStan) with chains: 4, cores: 2, temperature: 1.000, warmups (per chain): 225 and samples(per chain): 25.\n"
     ]
    },
    {
     "name": "stdout",
     "output_type": "stream",
     "text": [
      "NOR : 43.4114461646038\n"
     ]
    },
    {
     "name": "stderr",
     "output_type": "stream",
     "text": [
      "WARNING:pystan:n_eff / iter below 0.001 indicates that the effective sample size has likely been overestimated\n",
      "WARNING:pystan:Rhat above 1.1 or below 0.9 indicates that the chains very likely have not mixed\n",
      "INFO:orbit:Sampling (PyStan) with chains: 4, cores: 2, temperature: 1.000, warmups (per chain): 225 and samples(per chain): 25.\n"
     ]
    },
    {
     "name": "stdout",
     "output_type": "stream",
     "text": [
      "NZL : 214.10886892558955\n"
     ]
    },
    {
     "name": "stderr",
     "output_type": "stream",
     "text": [
      "WARNING:pystan:n_eff / iter below 0.001 indicates that the effective sample size has likely been overestimated\n",
      "WARNING:pystan:Rhat above 1.1 or below 0.9 indicates that the chains very likely have not mixed\n",
      "INFO:orbit:Sampling (PyStan) with chains: 4, cores: 2, temperature: 1.000, warmups (per chain): 225 and samples(per chain): 25.\n"
     ]
    },
    {
     "name": "stdout",
     "output_type": "stream",
     "text": [
      "POL : 47.20008891747546\n"
     ]
    },
    {
     "name": "stderr",
     "output_type": "stream",
     "text": [
      "WARNING:pystan:n_eff / iter below 0.001 indicates that the effective sample size has likely been overestimated\n",
      "WARNING:pystan:Rhat above 1.1 or below 0.9 indicates that the chains very likely have not mixed\n",
      "INFO:orbit:Sampling (PyStan) with chains: 4, cores: 2, temperature: 1.000, warmups (per chain): 225 and samples(per chain): 25.\n"
     ]
    },
    {
     "name": "stdout",
     "output_type": "stream",
     "text": [
      "PRT : 117.13013748845097\n"
     ]
    },
    {
     "name": "stderr",
     "output_type": "stream",
     "text": [
      "WARNING:pystan:n_eff / iter below 0.001 indicates that the effective sample size has likely been overestimated\n",
      "WARNING:pystan:Rhat above 1.1 or below 0.9 indicates that the chains very likely have not mixed\n",
      "INFO:orbit:Sampling (PyStan) with chains: 4, cores: 2, temperature: 1.000, warmups (per chain): 225 and samples(per chain): 25.\n"
     ]
    },
    {
     "name": "stdout",
     "output_type": "stream",
     "text": [
      "ROU : 66.41931130873495\n"
     ]
    },
    {
     "name": "stderr",
     "output_type": "stream",
     "text": [
      "WARNING:pystan:n_eff / iter below 0.001 indicates that the effective sample size has likely been overestimated\n",
      "WARNING:pystan:Rhat above 1.1 or below 0.9 indicates that the chains very likely have not mixed\n",
      "INFO:orbit:Sampling (PyStan) with chains: 4, cores: 2, temperature: 1.000, warmups (per chain): 225 and samples(per chain): 25.\n"
     ]
    },
    {
     "name": "stdout",
     "output_type": "stream",
     "text": [
      "RUS : 89.13811855057462\n"
     ]
    },
    {
     "name": "stderr",
     "output_type": "stream",
     "text": [
      "WARNING:pystan:n_eff / iter below 0.001 indicates that the effective sample size has likely been overestimated\n",
      "WARNING:pystan:Rhat above 1.1 or below 0.9 indicates that the chains very likely have not mixed\n",
      "INFO:orbit:Sampling (PyStan) with chains: 4, cores: 2, temperature: 1.000, warmups (per chain): 225 and samples(per chain): 25.\n"
     ]
    },
    {
     "name": "stdout",
     "output_type": "stream",
     "text": [
      "SVK : 20.916951471605817\n"
     ]
    },
    {
     "name": "stderr",
     "output_type": "stream",
     "text": [
      "WARNING:pystan:n_eff / iter below 0.001 indicates that the effective sample size has likely been overestimated\n",
      "WARNING:pystan:Rhat above 1.1 or below 0.9 indicates that the chains very likely have not mixed\n",
      "INFO:orbit:Sampling (PyStan) with chains: 4, cores: 2, temperature: 1.000, warmups (per chain): 225 and samples(per chain): 25.\n"
     ]
    },
    {
     "name": "stdout",
     "output_type": "stream",
     "text": [
      "SVN : 45.299031578422436\n"
     ]
    },
    {
     "name": "stderr",
     "output_type": "stream",
     "text": [
      "WARNING:pystan:n_eff / iter below 0.001 indicates that the effective sample size has likely been overestimated\n",
      "WARNING:pystan:Rhat above 1.1 or below 0.9 indicates that the chains very likely have not mixed\n",
      "INFO:orbit:Sampling (PyStan) with chains: 4, cores: 2, temperature: 1.000, warmups (per chain): 225 and samples(per chain): 25.\n"
     ]
    },
    {
     "name": "stdout",
     "output_type": "stream",
     "text": [
      "SWE : 34.797068245696515\n"
     ]
    },
    {
     "name": "stderr",
     "output_type": "stream",
     "text": [
      "WARNING:pystan:n_eff / iter below 0.001 indicates that the effective sample size has likely been overestimated\n",
      "WARNING:pystan:Rhat above 1.1 or below 0.9 indicates that the chains very likely have not mixed\n",
      "INFO:orbit:Sampling (PyStan) with chains: 4, cores: 2, temperature: 1.000, warmups (per chain): 225 and samples(per chain): 25.\n"
     ]
    },
    {
     "name": "stdout",
     "output_type": "stream",
     "text": [
      "TUR : 92.25721108942777\n"
     ]
    },
    {
     "name": "stderr",
     "output_type": "stream",
     "text": [
      "WARNING:pystan:n_eff / iter below 0.001 indicates that the effective sample size has likely been overestimated\n",
      "WARNING:pystan:Rhat above 1.1 or below 0.9 indicates that the chains very likely have not mixed\n",
      "INFO:orbit:Sampling (PyStan) with chains: 4, cores: 2, temperature: 1.000, warmups (per chain): 225 and samples(per chain): 25.\n"
     ]
    },
    {
     "name": "stdout",
     "output_type": "stream",
     "text": [
      "USA : 10.932331307940663\n"
     ]
    },
    {
     "name": "stderr",
     "output_type": "stream",
     "text": [
      "WARNING:pystan:n_eff / iter below 0.001 indicates that the effective sample size has likely been overestimated\n",
      "WARNING:pystan:Rhat above 1.1 or below 0.9 indicates that the chains very likely have not mixed\n"
     ]
    },
    {
     "name": "stdout",
     "output_type": "stream",
     "text": [
      "ZAF : 97.91538853685383\n"
     ]
    }
   ],
   "source": [
    "# обучим на всех колонках (то есть вс)\n",
    "dlt_full = []\n",
    "for i in data_full['COUNTRY'].unique():\n",
    "    X_train, X_test = preprocessing(i)\n",
    "    \n",
    "    dlt = DLT(\n",
    "    response_col='Value', \n",
    "    date_col='date',\n",
    "    regressor_col=X_test.drop(columns=['Value', 'date', 'COUNTRY']).columns,\n",
    "    seasonality=4)\n",
    "    \n",
    "    \n",
    "    dlt.fit(X_train)\n",
    "    predicted_df = dlt.predict(df=X_test)\n",
    "    \n",
    "    dlt_full.append(mean_squared_error(predicted_df['prediction'], X_test['Value'].values))\n",
    "    print(i ,':', mean_squared_error(predicted_df['prediction'], X_test['Value'].values))"
   ]
  },
  {
   "cell_type": "code",
   "execution_count": 26,
   "id": "2mY25xwjmXWz",
   "metadata": {
    "colab": {
     "base_uri": "https://localhost:8080/"
    },
    "id": "2mY25xwjmXWz",
    "outputId": "f8884717-a097-4d10-bf5f-1eadfefc52f0"
   },
   "outputs": [
    {
     "name": "stderr",
     "output_type": "stream",
     "text": [
      "INFO:orbit:Sampling (PyStan) with chains: 4, cores: 2, temperature: 1.000, warmups (per chain): 225 and samples(per chain): 25.\n",
      "WARNING:pystan:n_eff / iter below 0.001 indicates that the effective sample size has likely been overestimated\n",
      "WARNING:pystan:Rhat above 1.1 or below 0.9 indicates that the chains very likely have not mixed\n",
      "INFO:orbit:Sampling (PyStan) with chains: 4, cores: 2, temperature: 1.000, warmups (per chain): 225 and samples(per chain): 25.\n"
     ]
    },
    {
     "name": "stdout",
     "output_type": "stream",
     "text": [
      "ARG : 401.40415151538014\n"
     ]
    },
    {
     "name": "stderr",
     "output_type": "stream",
     "text": [
      "WARNING:pystan:n_eff / iter below 0.001 indicates that the effective sample size has likely been overestimated\n",
      "WARNING:pystan:Rhat above 1.1 or below 0.9 indicates that the chains very likely have not mixed\n",
      "INFO:orbit:Sampling (PyStan) with chains: 4, cores: 2, temperature: 1.000, warmups (per chain): 225 and samples(per chain): 25.\n"
     ]
    },
    {
     "name": "stdout",
     "output_type": "stream",
     "text": [
      "AUS : 79.23600368281245\n"
     ]
    },
    {
     "name": "stderr",
     "output_type": "stream",
     "text": [
      "WARNING:pystan:n_eff / iter below 0.001 indicates that the effective sample size has likely been overestimated\n",
      "WARNING:pystan:Rhat above 1.1 or below 0.9 indicates that the chains very likely have not mixed\n",
      "INFO:orbit:Sampling (PyStan) with chains: 4, cores: 2, temperature: 1.000, warmups (per chain): 225 and samples(per chain): 25.\n"
     ]
    },
    {
     "name": "stdout",
     "output_type": "stream",
     "text": [
      "AUT : 98.28558215139712\n"
     ]
    },
    {
     "name": "stderr",
     "output_type": "stream",
     "text": [
      "WARNING:pystan:n_eff / iter below 0.001 indicates that the effective sample size has likely been overestimated\n",
      "WARNING:pystan:Rhat above 1.1 or below 0.9 indicates that the chains very likely have not mixed\n",
      "INFO:orbit:Sampling (PyStan) with chains: 4, cores: 2, temperature: 1.000, warmups (per chain): 225 and samples(per chain): 25.\n"
     ]
    },
    {
     "name": "stdout",
     "output_type": "stream",
     "text": [
      "BEL : 82.54968882670389\n"
     ]
    },
    {
     "name": "stderr",
     "output_type": "stream",
     "text": [
      "WARNING:pystan:n_eff / iter below 0.001 indicates that the effective sample size has likely been overestimated\n",
      "WARNING:pystan:Rhat above 1.1 or below 0.9 indicates that the chains very likely have not mixed\n",
      "INFO:orbit:Sampling (PyStan) with chains: 4, cores: 2, temperature: 1.000, warmups (per chain): 225 and samples(per chain): 25.\n"
     ]
    },
    {
     "name": "stdout",
     "output_type": "stream",
     "text": [
      "BGR : 60.08505779693515\n"
     ]
    },
    {
     "name": "stderr",
     "output_type": "stream",
     "text": [
      "WARNING:pystan:n_eff / iter below 0.001 indicates that the effective sample size has likely been overestimated\n",
      "WARNING:pystan:Rhat above 1.1 or below 0.9 indicates that the chains very likely have not mixed\n",
      "INFO:orbit:Sampling (PyStan) with chains: 4, cores: 2, temperature: 1.000, warmups (per chain): 225 and samples(per chain): 25.\n"
     ]
    },
    {
     "name": "stdout",
     "output_type": "stream",
     "text": [
      "BRA : 206.1922756776997\n"
     ]
    },
    {
     "name": "stderr",
     "output_type": "stream",
     "text": [
      "WARNING:pystan:n_eff / iter below 0.001 indicates that the effective sample size has likely been overestimated\n",
      "WARNING:pystan:Rhat above 1.1 or below 0.9 indicates that the chains very likely have not mixed\n",
      "INFO:orbit:Sampling (PyStan) with chains: 4, cores: 2, temperature: 1.000, warmups (per chain): 225 and samples(per chain): 25.\n"
     ]
    },
    {
     "name": "stdout",
     "output_type": "stream",
     "text": [
      "CAN : 66.45627811694885\n"
     ]
    },
    {
     "name": "stderr",
     "output_type": "stream",
     "text": [
      "WARNING:pystan:n_eff / iter below 0.001 indicates that the effective sample size has likely been overestimated\n",
      "WARNING:pystan:Rhat above 1.1 or below 0.9 indicates that the chains very likely have not mixed\n",
      "INFO:orbit:Sampling (PyStan) with chains: 4, cores: 2, temperature: 1.000, warmups (per chain): 225 and samples(per chain): 25.\n"
     ]
    },
    {
     "name": "stdout",
     "output_type": "stream",
     "text": [
      "CHE : 9.517486859880218\n"
     ]
    },
    {
     "name": "stderr",
     "output_type": "stream",
     "text": [
      "WARNING:pystan:n_eff / iter below 0.001 indicates that the effective sample size has likely been overestimated\n",
      "WARNING:pystan:Rhat above 1.1 or below 0.9 indicates that the chains very likely have not mixed\n",
      "INFO:orbit:Sampling (PyStan) with chains: 4, cores: 2, temperature: 1.000, warmups (per chain): 225 and samples(per chain): 25.\n"
     ]
    },
    {
     "name": "stdout",
     "output_type": "stream",
     "text": [
      "CHL : 386.4586200217545\n"
     ]
    },
    {
     "name": "stderr",
     "output_type": "stream",
     "text": [
      "WARNING:pystan:n_eff / iter below 0.001 indicates that the effective sample size has likely been overestimated\n",
      "WARNING:pystan:Rhat above 1.1 or below 0.9 indicates that the chains very likely have not mixed\n",
      "INFO:orbit:Sampling (PyStan) with chains: 4, cores: 2, temperature: 1.000, warmups (per chain): 225 and samples(per chain): 25.\n"
     ]
    },
    {
     "name": "stdout",
     "output_type": "stream",
     "text": [
      "COL : 392.88877340023157\n"
     ]
    },
    {
     "name": "stderr",
     "output_type": "stream",
     "text": [
      "WARNING:pystan:n_eff / iter below 0.001 indicates that the effective sample size has likely been overestimated\n",
      "WARNING:pystan:Rhat above 1.1 or below 0.9 indicates that the chains very likely have not mixed\n",
      "INFO:orbit:Sampling (PyStan) with chains: 4, cores: 2, temperature: 1.000, warmups (per chain): 225 and samples(per chain): 25.\n"
     ]
    },
    {
     "name": "stdout",
     "output_type": "stream",
     "text": [
      "CRI : 127.42558011722566\n"
     ]
    },
    {
     "name": "stderr",
     "output_type": "stream",
     "text": [
      "WARNING:pystan:n_eff / iter below 0.001 indicates that the effective sample size has likely been overestimated\n",
      "WARNING:pystan:Rhat above 1.1 or below 0.9 indicates that the chains very likely have not mixed\n",
      "INFO:orbit:Sampling (PyStan) with chains: 4, cores: 2, temperature: 1.000, warmups (per chain): 225 and samples(per chain): 25.\n"
     ]
    },
    {
     "name": "stdout",
     "output_type": "stream",
     "text": [
      "CZE : 27.705042804847764\n"
     ]
    },
    {
     "name": "stderr",
     "output_type": "stream",
     "text": [
      "WARNING:pystan:n_eff / iter below 0.001 indicates that the effective sample size has likely been overestimated\n",
      "WARNING:pystan:Rhat above 1.1 or below 0.9 indicates that the chains very likely have not mixed\n",
      "INFO:orbit:Sampling (PyStan) with chains: 4, cores: 2, temperature: 1.000, warmups (per chain): 225 and samples(per chain): 25.\n"
     ]
    },
    {
     "name": "stdout",
     "output_type": "stream",
     "text": [
      "DEU : 13.324320320610655\n"
     ]
    },
    {
     "name": "stderr",
     "output_type": "stream",
     "text": [
      "WARNING:pystan:n_eff / iter below 0.001 indicates that the effective sample size has likely been overestimated\n",
      "WARNING:pystan:Rhat above 1.1 or below 0.9 indicates that the chains very likely have not mixed\n",
      "INFO:orbit:Sampling (PyStan) with chains: 4, cores: 2, temperature: 1.000, warmups (per chain): 225 and samples(per chain): 25.\n"
     ]
    },
    {
     "name": "stdout",
     "output_type": "stream",
     "text": [
      "DNK : 6.580093575816329\n"
     ]
    },
    {
     "name": "stderr",
     "output_type": "stream",
     "text": [
      "WARNING:pystan:n_eff / iter below 0.001 indicates that the effective sample size has likely been overestimated\n",
      "WARNING:pystan:Rhat above 1.1 or below 0.9 indicates that the chains very likely have not mixed\n",
      "INFO:orbit:Sampling (PyStan) with chains: 4, cores: 2, temperature: 1.000, warmups (per chain): 225 and samples(per chain): 25.\n"
     ]
    },
    {
     "name": "stdout",
     "output_type": "stream",
     "text": [
      "ESP : 80.59281725101762\n"
     ]
    },
    {
     "name": "stderr",
     "output_type": "stream",
     "text": [
      "WARNING:pystan:n_eff / iter below 0.001 indicates that the effective sample size has likely been overestimated\n",
      "WARNING:pystan:Rhat above 1.1 or below 0.9 indicates that the chains very likely have not mixed\n",
      "INFO:orbit:Sampling (PyStan) with chains: 4, cores: 2, temperature: 1.000, warmups (per chain): 225 and samples(per chain): 25.\n"
     ]
    },
    {
     "name": "stdout",
     "output_type": "stream",
     "text": [
      "EST : 366.1711543292461\n"
     ]
    },
    {
     "name": "stderr",
     "output_type": "stream",
     "text": [
      "WARNING:pystan:n_eff / iter below 0.001 indicates that the effective sample size has likely been overestimated\n",
      "WARNING:pystan:Rhat above 1.1 or below 0.9 indicates that the chains very likely have not mixed\n",
      "INFO:orbit:Sampling (PyStan) with chains: 4, cores: 2, temperature: 1.000, warmups (per chain): 225 and samples(per chain): 25.\n"
     ]
    },
    {
     "name": "stdout",
     "output_type": "stream",
     "text": [
      "FIN : 5.148641537592763\n"
     ]
    },
    {
     "name": "stderr",
     "output_type": "stream",
     "text": [
      "WARNING:pystan:n_eff / iter below 0.001 indicates that the effective sample size has likely been overestimated\n",
      "WARNING:pystan:Rhat above 1.1 or below 0.9 indicates that the chains very likely have not mixed\n",
      "INFO:orbit:Sampling (PyStan) with chains: 4, cores: 2, temperature: 1.000, warmups (per chain): 225 and samples(per chain): 25.\n"
     ]
    },
    {
     "name": "stdout",
     "output_type": "stream",
     "text": [
      "FRA : 44.17674116890425\n"
     ]
    },
    {
     "name": "stderr",
     "output_type": "stream",
     "text": [
      "WARNING:pystan:n_eff / iter below 0.001 indicates that the effective sample size has likely been overestimated\n",
      "WARNING:pystan:Rhat above 1.1 or below 0.9 indicates that the chains very likely have not mixed\n",
      "INFO:orbit:Sampling (PyStan) with chains: 4, cores: 2, temperature: 1.000, warmups (per chain): 225 and samples(per chain): 25.\n"
     ]
    },
    {
     "name": "stdout",
     "output_type": "stream",
     "text": [
      "GBR : 172.61186353843553\n"
     ]
    },
    {
     "name": "stderr",
     "output_type": "stream",
     "text": [
      "WARNING:pystan:n_eff / iter below 0.001 indicates that the effective sample size has likely been overestimated\n",
      "WARNING:pystan:Rhat above 1.1 or below 0.9 indicates that the chains very likely have not mixed\n",
      "INFO:orbit:Sampling (PyStan) with chains: 4, cores: 2, temperature: 1.000, warmups (per chain): 225 and samples(per chain): 25.\n"
     ]
    },
    {
     "name": "stdout",
     "output_type": "stream",
     "text": [
      "GRC : 459.18005765279327\n"
     ]
    },
    {
     "name": "stderr",
     "output_type": "stream",
     "text": [
      "WARNING:pystan:n_eff / iter below 0.001 indicates that the effective sample size has likely been overestimated\n",
      "WARNING:pystan:Rhat above 1.1 or below 0.9 indicates that the chains very likely have not mixed\n",
      "INFO:orbit:Sampling (PyStan) with chains: 4, cores: 2, temperature: 1.000, warmups (per chain): 225 and samples(per chain): 25.\n"
     ]
    },
    {
     "name": "stdout",
     "output_type": "stream",
     "text": [
      "HUN : 107.60522606898338\n"
     ]
    },
    {
     "name": "stderr",
     "output_type": "stream",
     "text": [
      "WARNING:pystan:n_eff / iter below 0.001 indicates that the effective sample size has likely been overestimated\n",
      "WARNING:pystan:Rhat above 1.1 or below 0.9 indicates that the chains very likely have not mixed\n",
      "INFO:orbit:Sampling (PyStan) with chains: 4, cores: 2, temperature: 1.000, warmups (per chain): 225 and samples(per chain): 25.\n"
     ]
    },
    {
     "name": "stdout",
     "output_type": "stream",
     "text": [
      "IDN : 128.1866466123649\n"
     ]
    },
    {
     "name": "stderr",
     "output_type": "stream",
     "text": [
      "WARNING:pystan:n_eff / iter below 0.001 indicates that the effective sample size has likely been overestimated\n",
      "WARNING:pystan:Rhat above 1.1 or below 0.9 indicates that the chains very likely have not mixed\n",
      "INFO:orbit:Sampling (PyStan) with chains: 4, cores: 2, temperature: 1.000, warmups (per chain): 225 and samples(per chain): 25.\n"
     ]
    },
    {
     "name": "stdout",
     "output_type": "stream",
     "text": [
      "IND : 292.2741172670081\n"
     ]
    },
    {
     "name": "stderr",
     "output_type": "stream",
     "text": [
      "WARNING:pystan:n_eff / iter below 0.001 indicates that the effective sample size has likely been overestimated\n",
      "WARNING:pystan:Rhat above 1.1 or below 0.9 indicates that the chains very likely have not mixed\n",
      "INFO:orbit:Sampling (PyStan) with chains: 4, cores: 2, temperature: 1.000, warmups (per chain): 225 and samples(per chain): 25.\n"
     ]
    },
    {
     "name": "stdout",
     "output_type": "stream",
     "text": [
      "IRL : 97.51383029737391\n"
     ]
    },
    {
     "name": "stderr",
     "output_type": "stream",
     "text": [
      "WARNING:pystan:n_eff / iter below 0.001 indicates that the effective sample size has likely been overestimated\n",
      "WARNING:pystan:Rhat above 1.1 or below 0.9 indicates that the chains very likely have not mixed\n",
      "INFO:orbit:Sampling (PyStan) with chains: 4, cores: 2, temperature: 1.000, warmups (per chain): 225 and samples(per chain): 25.\n"
     ]
    },
    {
     "name": "stdout",
     "output_type": "stream",
     "text": [
      "ISL : 37.799697192790546\n"
     ]
    },
    {
     "name": "stderr",
     "output_type": "stream",
     "text": [
      "WARNING:pystan:n_eff / iter below 0.001 indicates that the effective sample size has likely been overestimated\n",
      "WARNING:pystan:Rhat above 1.1 or below 0.9 indicates that the chains very likely have not mixed\n",
      "INFO:orbit:Sampling (PyStan) with chains: 4, cores: 2, temperature: 1.000, warmups (per chain): 225 and samples(per chain): 25.\n"
     ]
    },
    {
     "name": "stdout",
     "output_type": "stream",
     "text": [
      "ISR : 44.94635839067601\n"
     ]
    },
    {
     "name": "stderr",
     "output_type": "stream",
     "text": [
      "WARNING:pystan:n_eff / iter below 0.001 indicates that the effective sample size has likely been overestimated\n",
      "WARNING:pystan:Rhat above 1.1 or below 0.9 indicates that the chains very likely have not mixed\n",
      "INFO:orbit:Sampling (PyStan) with chains: 4, cores: 2, temperature: 1.000, warmups (per chain): 225 and samples(per chain): 25.\n"
     ]
    },
    {
     "name": "stdout",
     "output_type": "stream",
     "text": [
      "ITA : 387.76063317503736\n"
     ]
    },
    {
     "name": "stderr",
     "output_type": "stream",
     "text": [
      "WARNING:pystan:n_eff / iter below 0.001 indicates that the effective sample size has likely been overestimated\n",
      "WARNING:pystan:Rhat above 1.1 or below 0.9 indicates that the chains very likely have not mixed\n",
      "INFO:orbit:Sampling (PyStan) with chains: 4, cores: 2, temperature: 1.000, warmups (per chain): 225 and samples(per chain): 25.\n"
     ]
    },
    {
     "name": "stdout",
     "output_type": "stream",
     "text": [
      "JPN : 61.19667975182535\n"
     ]
    },
    {
     "name": "stderr",
     "output_type": "stream",
     "text": [
      "WARNING:pystan:n_eff / iter below 0.001 indicates that the effective sample size has likely been overestimated\n",
      "WARNING:pystan:Rhat above 1.1 or below 0.9 indicates that the chains very likely have not mixed\n",
      "INFO:orbit:Sampling (PyStan) with chains: 4, cores: 2, temperature: 1.000, warmups (per chain): 225 and samples(per chain): 25.\n"
     ]
    },
    {
     "name": "stdout",
     "output_type": "stream",
     "text": [
      "KOR : 4.238172364919929\n"
     ]
    },
    {
     "name": "stderr",
     "output_type": "stream",
     "text": [
      "WARNING:pystan:n_eff / iter below 0.001 indicates that the effective sample size has likely been overestimated\n",
      "WARNING:pystan:Rhat above 1.1 or below 0.9 indicates that the chains very likely have not mixed\n",
      "INFO:orbit:Sampling (PyStan) with chains: 4, cores: 2, temperature: 1.000, warmups (per chain): 225 and samples(per chain): 25.\n"
     ]
    },
    {
     "name": "stdout",
     "output_type": "stream",
     "text": [
      "LTU : 25.29263401344551\n"
     ]
    },
    {
     "name": "stderr",
     "output_type": "stream",
     "text": [
      "WARNING:pystan:n_eff / iter below 0.001 indicates that the effective sample size has likely been overestimated\n",
      "WARNING:pystan:Rhat above 1.1 or below 0.9 indicates that the chains very likely have not mixed\n",
      "INFO:orbit:Sampling (PyStan) with chains: 4, cores: 2, temperature: 1.000, warmups (per chain): 225 and samples(per chain): 25.\n"
     ]
    },
    {
     "name": "stdout",
     "output_type": "stream",
     "text": [
      "LUX : 17.373488914247478\n"
     ]
    },
    {
     "name": "stderr",
     "output_type": "stream",
     "text": [
      "WARNING:pystan:n_eff / iter below 0.001 indicates that the effective sample size has likely been overestimated\n",
      "WARNING:pystan:Rhat above 1.1 or below 0.9 indicates that the chains very likely have not mixed\n",
      "INFO:orbit:Sampling (PyStan) with chains: 4, cores: 2, temperature: 1.000, warmups (per chain): 225 and samples(per chain): 25.\n"
     ]
    },
    {
     "name": "stdout",
     "output_type": "stream",
     "text": [
      "LVA : 11.434815110457645\n"
     ]
    },
    {
     "name": "stderr",
     "output_type": "stream",
     "text": [
      "WARNING:pystan:n_eff / iter below 0.001 indicates that the effective sample size has likely been overestimated\n",
      "WARNING:pystan:Rhat above 1.1 or below 0.9 indicates that the chains very likely have not mixed\n",
      "INFO:orbit:Sampling (PyStan) with chains: 4, cores: 2, temperature: 1.000, warmups (per chain): 225 and samples(per chain): 25.\n"
     ]
    },
    {
     "name": "stdout",
     "output_type": "stream",
     "text": [
      "MEX : 388.92933040045216\n"
     ]
    },
    {
     "name": "stderr",
     "output_type": "stream",
     "text": [
      "WARNING:pystan:n_eff / iter below 0.001 indicates that the effective sample size has likely been overestimated\n",
      "WARNING:pystan:Rhat above 1.1 or below 0.9 indicates that the chains very likely have not mixed\n",
      "INFO:orbit:Sampling (PyStan) with chains: 4, cores: 2, temperature: 1.000, warmups (per chain): 225 and samples(per chain): 25.\n"
     ]
    },
    {
     "name": "stdout",
     "output_type": "stream",
     "text": [
      "NLD : 26.909929400916116\n"
     ]
    },
    {
     "name": "stderr",
     "output_type": "stream",
     "text": [
      "WARNING:pystan:n_eff / iter below 0.001 indicates that the effective sample size has likely been overestimated\n",
      "WARNING:pystan:Rhat above 1.1 or below 0.9 indicates that the chains very likely have not mixed\n",
      "INFO:orbit:Sampling (PyStan) with chains: 4, cores: 2, temperature: 1.000, warmups (per chain): 225 and samples(per chain): 25.\n"
     ]
    },
    {
     "name": "stdout",
     "output_type": "stream",
     "text": [
      "NOR : 61.371388902557975\n"
     ]
    },
    {
     "name": "stderr",
     "output_type": "stream",
     "text": [
      "WARNING:pystan:n_eff / iter below 0.001 indicates that the effective sample size has likely been overestimated\n",
      "WARNING:pystan:Rhat above 1.1 or below 0.9 indicates that the chains very likely have not mixed\n",
      "INFO:orbit:Sampling (PyStan) with chains: 4, cores: 2, temperature: 1.000, warmups (per chain): 225 and samples(per chain): 25.\n"
     ]
    },
    {
     "name": "stdout",
     "output_type": "stream",
     "text": [
      "NZL : 34.13359025688378\n"
     ]
    },
    {
     "name": "stderr",
     "output_type": "stream",
     "text": [
      "WARNING:pystan:n_eff / iter below 0.001 indicates that the effective sample size has likely been overestimated\n",
      "WARNING:pystan:Rhat above 1.1 or below 0.9 indicates that the chains very likely have not mixed\n"
     ]
    },
    {
     "name": "stdout",
     "output_type": "stream",
     "text": [
      "POL : 27.632565726497432\n"
     ]
    },
    {
     "name": "stderr",
     "output_type": "stream",
     "text": [
      "INFO:orbit:Sampling (PyStan) with chains: 4, cores: 2, temperature: 1.000, warmups (per chain): 225 and samples(per chain): 25.\n",
      "WARNING:pystan:n_eff / iter below 0.001 indicates that the effective sample size has likely been overestimated\n",
      "WARNING:pystan:Rhat above 1.1 or below 0.9 indicates that the chains very likely have not mixed\n",
      "INFO:orbit:Sampling (PyStan) with chains: 4, cores: 2, temperature: 1.000, warmups (per chain): 225 and samples(per chain): 25.\n"
     ]
    },
    {
     "name": "stdout",
     "output_type": "stream",
     "text": [
      "PRT : 45.03091021813071\n"
     ]
    },
    {
     "name": "stderr",
     "output_type": "stream",
     "text": [
      "WARNING:pystan:n_eff / iter below 0.001 indicates that the effective sample size has likely been overestimated\n",
      "WARNING:pystan:Rhat above 1.1 or below 0.9 indicates that the chains very likely have not mixed\n",
      "INFO:orbit:Sampling (PyStan) with chains: 4, cores: 2, temperature: 1.000, warmups (per chain): 225 and samples(per chain): 25.\n"
     ]
    },
    {
     "name": "stdout",
     "output_type": "stream",
     "text": [
      "ROU : 79.51705148943263\n"
     ]
    },
    {
     "name": "stderr",
     "output_type": "stream",
     "text": [
      "WARNING:pystan:n_eff / iter below 0.001 indicates that the effective sample size has likely been overestimated\n",
      "WARNING:pystan:Rhat above 1.1 or below 0.9 indicates that the chains very likely have not mixed\n"
     ]
    },
    {
     "name": "stdout",
     "output_type": "stream",
     "text": [
      "RUS : 87.48468032839413\n"
     ]
    },
    {
     "name": "stderr",
     "output_type": "stream",
     "text": [
      "INFO:orbit:Sampling (PyStan) with chains: 4, cores: 2, temperature: 1.000, warmups (per chain): 225 and samples(per chain): 25.\n",
      "WARNING:pystan:n_eff / iter below 0.001 indicates that the effective sample size has likely been overestimated\n",
      "WARNING:pystan:Rhat above 1.1 or below 0.9 indicates that the chains very likely have not mixed\n",
      "INFO:orbit:Sampling (PyStan) with chains: 4, cores: 2, temperature: 1.000, warmups (per chain): 225 and samples(per chain): 25.\n"
     ]
    },
    {
     "name": "stdout",
     "output_type": "stream",
     "text": [
      "SVK : 21.03217518310238\n"
     ]
    },
    {
     "name": "stderr",
     "output_type": "stream",
     "text": [
      "WARNING:pystan:n_eff / iter below 0.001 indicates that the effective sample size has likely been overestimated\n",
      "WARNING:pystan:Rhat above 1.1 or below 0.9 indicates that the chains very likely have not mixed\n",
      "INFO:orbit:Sampling (PyStan) with chains: 4, cores: 2, temperature: 1.000, warmups (per chain): 225 and samples(per chain): 25.\n"
     ]
    },
    {
     "name": "stdout",
     "output_type": "stream",
     "text": [
      "SVN : 38.28639680446845\n"
     ]
    },
    {
     "name": "stderr",
     "output_type": "stream",
     "text": [
      "WARNING:pystan:n_eff / iter below 0.001 indicates that the effective sample size has likely been overestimated\n",
      "WARNING:pystan:Rhat above 1.1 or below 0.9 indicates that the chains very likely have not mixed\n",
      "INFO:orbit:Sampling (PyStan) with chains: 4, cores: 2, temperature: 1.000, warmups (per chain): 225 and samples(per chain): 25.\n"
     ]
    },
    {
     "name": "stdout",
     "output_type": "stream",
     "text": [
      "SWE : 9.679910372842361\n"
     ]
    },
    {
     "name": "stderr",
     "output_type": "stream",
     "text": [
      "WARNING:pystan:n_eff / iter below 0.001 indicates that the effective sample size has likely been overestimated\n",
      "WARNING:pystan:Rhat above 1.1 or below 0.9 indicates that the chains very likely have not mixed\n",
      "INFO:orbit:Sampling (PyStan) with chains: 4, cores: 2, temperature: 1.000, warmups (per chain): 225 and samples(per chain): 25.\n"
     ]
    },
    {
     "name": "stdout",
     "output_type": "stream",
     "text": [
      "TUR : 145.90256553105766\n"
     ]
    },
    {
     "name": "stderr",
     "output_type": "stream",
     "text": [
      "WARNING:pystan:n_eff / iter below 0.001 indicates that the effective sample size has likely been overestimated\n",
      "WARNING:pystan:Rhat above 1.1 or below 0.9 indicates that the chains very likely have not mixed\n",
      "INFO:orbit:Sampling (PyStan) with chains: 4, cores: 2, temperature: 1.000, warmups (per chain): 225 and samples(per chain): 25.\n"
     ]
    },
    {
     "name": "stdout",
     "output_type": "stream",
     "text": [
      "USA : 15.499070840838032\n"
     ]
    },
    {
     "name": "stderr",
     "output_type": "stream",
     "text": [
      "WARNING:pystan:n_eff / iter below 0.001 indicates that the effective sample size has likely been overestimated\n",
      "WARNING:pystan:Rhat above 1.1 or below 0.9 indicates that the chains very likely have not mixed\n"
     ]
    },
    {
     "name": "stdout",
     "output_type": "stream",
     "text": [
      "ZAF : 154.3645184514448\n"
     ]
    }
   ],
   "source": [
    "# возьмем 10 наиболее коррелированных колонок\n",
    "corrs = np.abs(X_train.corr()['Value']).sort_values()[-11:-1].index\n",
    "\n",
    "# обучим DLT на них\n",
    "dlt_corr = []\n",
    "for i in data_full['COUNTRY'].unique():\n",
    "    X_train, X_test = preprocessing(i)\n",
    "    \n",
    "    dlt = DLT(\n",
    "    response_col='Value', \n",
    "    date_col='date',\n",
    "    regressor_col=corrs,\n",
    "    seasonality=4)\n",
    "    \n",
    "    \n",
    "    dlt.fit(X_train)\n",
    "    predicted_df = dlt.predict(df=X_test)\n",
    "    \n",
    "    dlt_corr.append(mean_squared_error(predicted_df['prediction'], X_test['Value'].values))\n",
    "    print(i ,':', mean_squared_error(predicted_df['prediction'], X_test['Value'].values))"
   ]
  },
  {
   "cell_type": "code",
   "execution_count": 27,
   "id": "M1kRFo0xnVhz",
   "metadata": {
    "colab": {
     "base_uri": "https://localhost:8080/"
    },
    "id": "M1kRFo0xnVhz",
    "outputId": "3c0cf5c4-3834-446e-eb4d-32bca021afab"
   },
   "outputs": [
    {
     "name": "stderr",
     "output_type": "stream",
     "text": [
      "INFO:orbit:Sampling (PyStan) with chains: 4, cores: 2, temperature: 1.000, warmups (per chain): 225 and samples(per chain): 25.\n",
      "WARNING:pystan:n_eff / iter below 0.001 indicates that the effective sample size has likely been overestimated\n",
      "WARNING:pystan:Rhat above 1.1 or below 0.9 indicates that the chains very likely have not mixed\n",
      "INFO:orbit:Sampling (PyStan) with chains: 4, cores: 2, temperature: 1.000, warmups (per chain): 225 and samples(per chain): 25.\n"
     ]
    },
    {
     "name": "stdout",
     "output_type": "stream",
     "text": [
      "ARG : 512.6624680597549\n"
     ]
    },
    {
     "name": "stderr",
     "output_type": "stream",
     "text": [
      "WARNING:pystan:n_eff / iter below 0.001 indicates that the effective sample size has likely been overestimated\n",
      "WARNING:pystan:Rhat above 1.1 or below 0.9 indicates that the chains very likely have not mixed\n",
      "INFO:orbit:Sampling (PyStan) with chains: 4, cores: 2, temperature: 1.000, warmups (per chain): 225 and samples(per chain): 25.\n"
     ]
    },
    {
     "name": "stdout",
     "output_type": "stream",
     "text": [
      "AUS : 61.17522759717905\n"
     ]
    },
    {
     "name": "stderr",
     "output_type": "stream",
     "text": [
      "WARNING:pystan:n_eff / iter below 0.001 indicates that the effective sample size has likely been overestimated\n",
      "WARNING:pystan:Rhat above 1.1 or below 0.9 indicates that the chains very likely have not mixed\n",
      "INFO:orbit:Sampling (PyStan) with chains: 4, cores: 2, temperature: 1.000, warmups (per chain): 225 and samples(per chain): 25.\n"
     ]
    },
    {
     "name": "stdout",
     "output_type": "stream",
     "text": [
      "AUT : 54.609266411686185\n"
     ]
    },
    {
     "name": "stderr",
     "output_type": "stream",
     "text": [
      "WARNING:pystan:n_eff / iter below 0.001 indicates that the effective sample size has likely been overestimated\n",
      "WARNING:pystan:Rhat above 1.1 or below 0.9 indicates that the chains very likely have not mixed\n",
      "INFO:orbit:Sampling (PyStan) with chains: 4, cores: 2, temperature: 1.000, warmups (per chain): 225 and samples(per chain): 25.\n"
     ]
    },
    {
     "name": "stdout",
     "output_type": "stream",
     "text": [
      "BEL : 22.9350615753055\n"
     ]
    },
    {
     "name": "stderr",
     "output_type": "stream",
     "text": [
      "WARNING:pystan:n_eff / iter below 0.001 indicates that the effective sample size has likely been overestimated\n",
      "WARNING:pystan:Rhat above 1.1 or below 0.9 indicates that the chains very likely have not mixed\n",
      "INFO:orbit:Sampling (PyStan) with chains: 4, cores: 2, temperature: 1.000, warmups (per chain): 225 and samples(per chain): 25.\n"
     ]
    },
    {
     "name": "stdout",
     "output_type": "stream",
     "text": [
      "BGR : 37.37050008072215\n"
     ]
    },
    {
     "name": "stderr",
     "output_type": "stream",
     "text": [
      "WARNING:pystan:n_eff / iter below 0.001 indicates that the effective sample size has likely been overestimated\n",
      "WARNING:pystan:Rhat above 1.1 or below 0.9 indicates that the chains very likely have not mixed\n",
      "INFO:orbit:Sampling (PyStan) with chains: 4, cores: 2, temperature: 1.000, warmups (per chain): 225 and samples(per chain): 25.\n"
     ]
    },
    {
     "name": "stdout",
     "output_type": "stream",
     "text": [
      "BRA : 205.33260712634467\n"
     ]
    },
    {
     "name": "stderr",
     "output_type": "stream",
     "text": [
      "WARNING:pystan:n_eff / iter below 0.001 indicates that the effective sample size has likely been overestimated\n",
      "WARNING:pystan:Rhat above 1.1 or below 0.9 indicates that the chains very likely have not mixed\n",
      "INFO:orbit:Sampling (PyStan) with chains: 4, cores: 2, temperature: 1.000, warmups (per chain): 225 and samples(per chain): 25.\n"
     ]
    },
    {
     "name": "stdout",
     "output_type": "stream",
     "text": [
      "CAN : 102.26361185327129\n"
     ]
    },
    {
     "name": "stderr",
     "output_type": "stream",
     "text": [
      "WARNING:pystan:n_eff / iter below 0.001 indicates that the effective sample size has likely been overestimated\n",
      "WARNING:pystan:Rhat above 1.1 or below 0.9 indicates that the chains very likely have not mixed\n",
      "INFO:orbit:Sampling (PyStan) with chains: 4, cores: 2, temperature: 1.000, warmups (per chain): 225 and samples(per chain): 25.\n"
     ]
    },
    {
     "name": "stdout",
     "output_type": "stream",
     "text": [
      "CHE : 11.64314808036326\n"
     ]
    },
    {
     "name": "stderr",
     "output_type": "stream",
     "text": [
      "WARNING:pystan:n_eff / iter below 0.001 indicates that the effective sample size has likely been overestimated\n",
      "WARNING:pystan:Rhat above 1.1 or below 0.9 indicates that the chains very likely have not mixed\n",
      "INFO:orbit:Sampling (PyStan) with chains: 4, cores: 2, temperature: 1.000, warmups (per chain): 225 and samples(per chain): 25.\n"
     ]
    },
    {
     "name": "stdout",
     "output_type": "stream",
     "text": [
      "CHL : 433.567516638513\n"
     ]
    },
    {
     "name": "stderr",
     "output_type": "stream",
     "text": [
      "WARNING:pystan:n_eff / iter below 0.001 indicates that the effective sample size has likely been overestimated\n",
      "WARNING:pystan:Rhat above 1.1 or below 0.9 indicates that the chains very likely have not mixed\n",
      "INFO:orbit:Sampling (PyStan) with chains: 4, cores: 2, temperature: 1.000, warmups (per chain): 225 and samples(per chain): 25.\n"
     ]
    },
    {
     "name": "stdout",
     "output_type": "stream",
     "text": [
      "COL : 455.8323538605941\n"
     ]
    },
    {
     "name": "stderr",
     "output_type": "stream",
     "text": [
      "WARNING:pystan:n_eff / iter below 0.001 indicates that the effective sample size has likely been overestimated\n",
      "WARNING:pystan:Rhat above 1.1 or below 0.9 indicates that the chains very likely have not mixed\n",
      "INFO:orbit:Sampling (PyStan) with chains: 4, cores: 2, temperature: 1.000, warmups (per chain): 225 and samples(per chain): 25.\n"
     ]
    },
    {
     "name": "stdout",
     "output_type": "stream",
     "text": [
      "CRI : 120.3007135391643\n"
     ]
    },
    {
     "name": "stderr",
     "output_type": "stream",
     "text": [
      "WARNING:pystan:n_eff / iter below 0.001 indicates that the effective sample size has likely been overestimated\n",
      "WARNING:pystan:Rhat above 1.1 or below 0.9 indicates that the chains very likely have not mixed\n",
      "INFO:orbit:Sampling (PyStan) with chains: 4, cores: 2, temperature: 1.000, warmups (per chain): 225 and samples(per chain): 25.\n"
     ]
    },
    {
     "name": "stdout",
     "output_type": "stream",
     "text": [
      "CZE : 39.74270736423633\n"
     ]
    },
    {
     "name": "stderr",
     "output_type": "stream",
     "text": [
      "WARNING:pystan:n_eff / iter below 0.001 indicates that the effective sample size has likely been overestimated\n",
      "WARNING:pystan:Rhat above 1.1 or below 0.9 indicates that the chains very likely have not mixed\n",
      "INFO:orbit:Sampling (PyStan) with chains: 4, cores: 2, temperature: 1.000, warmups (per chain): 225 and samples(per chain): 25.\n"
     ]
    },
    {
     "name": "stdout",
     "output_type": "stream",
     "text": [
      "DEU : 15.056105056893834\n"
     ]
    },
    {
     "name": "stderr",
     "output_type": "stream",
     "text": [
      "WARNING:pystan:n_eff / iter below 0.001 indicates that the effective sample size has likely been overestimated\n",
      "WARNING:pystan:Rhat above 1.1 or below 0.9 indicates that the chains very likely have not mixed\n",
      "INFO:orbit:Sampling (PyStan) with chains: 4, cores: 2, temperature: 1.000, warmups (per chain): 225 and samples(per chain): 25.\n"
     ]
    },
    {
     "name": "stdout",
     "output_type": "stream",
     "text": [
      "DNK : 9.087029706964234\n"
     ]
    },
    {
     "name": "stderr",
     "output_type": "stream",
     "text": [
      "WARNING:pystan:n_eff / iter below 0.001 indicates that the effective sample size has likely been overestimated\n",
      "WARNING:pystan:Rhat above 1.1 or below 0.9 indicates that the chains very likely have not mixed\n",
      "INFO:orbit:Sampling (PyStan) with chains: 4, cores: 2, temperature: 1.000, warmups (per chain): 225 and samples(per chain): 25.\n"
     ]
    },
    {
     "name": "stdout",
     "output_type": "stream",
     "text": [
      "ESP : 36.14507965352542\n"
     ]
    },
    {
     "name": "stderr",
     "output_type": "stream",
     "text": [
      "WARNING:pystan:n_eff / iter below 0.001 indicates that the effective sample size has likely been overestimated\n",
      "WARNING:pystan:Rhat above 1.1 or below 0.9 indicates that the chains very likely have not mixed\n",
      "INFO:orbit:Sampling (PyStan) with chains: 4, cores: 2, temperature: 1.000, warmups (per chain): 225 and samples(per chain): 25.\n"
     ]
    },
    {
     "name": "stdout",
     "output_type": "stream",
     "text": [
      "EST : 955.9858935487342\n"
     ]
    },
    {
     "name": "stderr",
     "output_type": "stream",
     "text": [
      "WARNING:pystan:n_eff / iter below 0.001 indicates that the effective sample size has likely been overestimated\n",
      "WARNING:pystan:Rhat above 1.1 or below 0.9 indicates that the chains very likely have not mixed\n",
      "INFO:orbit:Sampling (PyStan) with chains: 4, cores: 2, temperature: 1.000, warmups (per chain): 225 and samples(per chain): 25.\n"
     ]
    },
    {
     "name": "stdout",
     "output_type": "stream",
     "text": [
      "FIN : 7.035804628782669\n"
     ]
    },
    {
     "name": "stderr",
     "output_type": "stream",
     "text": [
      "WARNING:pystan:n_eff / iter below 0.001 indicates that the effective sample size has likely been overestimated\n",
      "WARNING:pystan:Rhat above 1.1 or below 0.9 indicates that the chains very likely have not mixed\n",
      "INFO:orbit:Sampling (PyStan) with chains: 4, cores: 2, temperature: 1.000, warmups (per chain): 225 and samples(per chain): 25.\n"
     ]
    },
    {
     "name": "stdout",
     "output_type": "stream",
     "text": [
      "FRA : 35.781986801790886\n"
     ]
    },
    {
     "name": "stderr",
     "output_type": "stream",
     "text": [
      "WARNING:pystan:n_eff / iter below 0.001 indicates that the effective sample size has likely been overestimated\n",
      "WARNING:pystan:Rhat above 1.1 or below 0.9 indicates that the chains very likely have not mixed\n"
     ]
    },
    {
     "name": "stdout",
     "output_type": "stream",
     "text": [
      "GBR : 64.62817640661882\n"
     ]
    },
    {
     "name": "stderr",
     "output_type": "stream",
     "text": [
      "INFO:orbit:Sampling (PyStan) with chains: 4, cores: 2, temperature: 1.000, warmups (per chain): 225 and samples(per chain): 25.\n",
      "WARNING:pystan:n_eff / iter below 0.001 indicates that the effective sample size has likely been overestimated\n",
      "WARNING:pystan:Rhat above 1.1 or below 0.9 indicates that the chains very likely have not mixed\n",
      "INFO:orbit:Sampling (PyStan) with chains: 4, cores: 2, temperature: 1.000, warmups (per chain): 225 and samples(per chain): 25.\n"
     ]
    },
    {
     "name": "stdout",
     "output_type": "stream",
     "text": [
      "GRC : 461.9531601350933\n"
     ]
    },
    {
     "name": "stderr",
     "output_type": "stream",
     "text": [
      "WARNING:pystan:n_eff / iter below 0.001 indicates that the effective sample size has likely been overestimated\n",
      "WARNING:pystan:Rhat above 1.1 or below 0.9 indicates that the chains very likely have not mixed\n",
      "INFO:orbit:Sampling (PyStan) with chains: 4, cores: 2, temperature: 1.000, warmups (per chain): 225 and samples(per chain): 25.\n"
     ]
    },
    {
     "name": "stdout",
     "output_type": "stream",
     "text": [
      "HUN : 232.6773725558678\n"
     ]
    },
    {
     "name": "stderr",
     "output_type": "stream",
     "text": [
      "WARNING:pystan:n_eff / iter below 0.001 indicates that the effective sample size has likely been overestimated\n",
      "WARNING:pystan:Rhat above 1.1 or below 0.9 indicates that the chains very likely have not mixed\n",
      "INFO:orbit:Sampling (PyStan) with chains: 4, cores: 2, temperature: 1.000, warmups (per chain): 225 and samples(per chain): 25.\n"
     ]
    },
    {
     "name": "stdout",
     "output_type": "stream",
     "text": [
      "IDN : 82.51250589095208\n"
     ]
    },
    {
     "name": "stderr",
     "output_type": "stream",
     "text": [
      "WARNING:pystan:n_eff / iter below 0.001 indicates that the effective sample size has likely been overestimated\n",
      "WARNING:pystan:Rhat above 1.1 or below 0.9 indicates that the chains very likely have not mixed\n",
      "INFO:orbit:Sampling (PyStan) with chains: 4, cores: 2, temperature: 1.000, warmups (per chain): 225 and samples(per chain): 25.\n"
     ]
    },
    {
     "name": "stdout",
     "output_type": "stream",
     "text": [
      "IND : 101.24454228226881\n"
     ]
    },
    {
     "name": "stderr",
     "output_type": "stream",
     "text": [
      "WARNING:pystan:n_eff / iter below 0.001 indicates that the effective sample size has likely been overestimated\n",
      "WARNING:pystan:Rhat above 1.1 or below 0.9 indicates that the chains very likely have not mixed\n",
      "INFO:orbit:Sampling (PyStan) with chains: 4, cores: 2, temperature: 1.000, warmups (per chain): 225 and samples(per chain): 25.\n"
     ]
    },
    {
     "name": "stdout",
     "output_type": "stream",
     "text": [
      "IRL : 206.58911396128212\n"
     ]
    },
    {
     "name": "stderr",
     "output_type": "stream",
     "text": [
      "WARNING:pystan:n_eff / iter below 0.001 indicates that the effective sample size has likely been overestimated\n",
      "WARNING:pystan:Rhat above 1.1 or below 0.9 indicates that the chains very likely have not mixed\n",
      "INFO:orbit:Sampling (PyStan) with chains: 4, cores: 2, temperature: 1.000, warmups (per chain): 225 and samples(per chain): 25.\n"
     ]
    },
    {
     "name": "stdout",
     "output_type": "stream",
     "text": [
      "ISL : 63.00466470709367\n"
     ]
    },
    {
     "name": "stderr",
     "output_type": "stream",
     "text": [
      "WARNING:pystan:n_eff / iter below 0.001 indicates that the effective sample size has likely been overestimated\n",
      "WARNING:pystan:Rhat above 1.1 or below 0.9 indicates that the chains very likely have not mixed\n",
      "INFO:orbit:Sampling (PyStan) with chains: 4, cores: 2, temperature: 1.000, warmups (per chain): 225 and samples(per chain): 25.\n"
     ]
    },
    {
     "name": "stdout",
     "output_type": "stream",
     "text": [
      "ISR : 16.529002166899772\n"
     ]
    },
    {
     "name": "stderr",
     "output_type": "stream",
     "text": [
      "WARNING:pystan:n_eff / iter below 0.001 indicates that the effective sample size has likely been overestimated\n",
      "WARNING:pystan:Rhat above 1.1 or below 0.9 indicates that the chains very likely have not mixed\n",
      "INFO:orbit:Sampling (PyStan) with chains: 4, cores: 2, temperature: 1.000, warmups (per chain): 225 and samples(per chain): 25.\n"
     ]
    },
    {
     "name": "stdout",
     "output_type": "stream",
     "text": [
      "ITA : 648.1196167457549\n"
     ]
    },
    {
     "name": "stderr",
     "output_type": "stream",
     "text": [
      "WARNING:pystan:n_eff / iter below 0.001 indicates that the effective sample size has likely been overestimated\n",
      "WARNING:pystan:Rhat above 1.1 or below 0.9 indicates that the chains very likely have not mixed\n",
      "INFO:orbit:Sampling (PyStan) with chains: 4, cores: 2, temperature: 1.000, warmups (per chain): 225 and samples(per chain): 25.\n"
     ]
    },
    {
     "name": "stdout",
     "output_type": "stream",
     "text": [
      "JPN : 17.981612334261946\n"
     ]
    },
    {
     "name": "stderr",
     "output_type": "stream",
     "text": [
      "WARNING:pystan:n_eff / iter below 0.001 indicates that the effective sample size has likely been overestimated\n",
      "WARNING:pystan:Rhat above 1.1 or below 0.9 indicates that the chains very likely have not mixed\n",
      "INFO:orbit:Sampling (PyStan) with chains: 4, cores: 2, temperature: 1.000, warmups (per chain): 225 and samples(per chain): 25.\n"
     ]
    },
    {
     "name": "stdout",
     "output_type": "stream",
     "text": [
      "KOR : 5.27779292437134\n"
     ]
    },
    {
     "name": "stderr",
     "output_type": "stream",
     "text": [
      "WARNING:pystan:n_eff / iter below 0.001 indicates that the effective sample size has likely been overestimated\n",
      "WARNING:pystan:Rhat above 1.1 or below 0.9 indicates that the chains very likely have not mixed\n"
     ]
    },
    {
     "name": "stdout",
     "output_type": "stream",
     "text": [
      "LTU : 61.05241543207747\n"
     ]
    },
    {
     "name": "stderr",
     "output_type": "stream",
     "text": [
      "INFO:orbit:Sampling (PyStan) with chains: 4, cores: 2, temperature: 1.000, warmups (per chain): 225 and samples(per chain): 25.\n",
      "WARNING:pystan:n_eff / iter below 0.001 indicates that the effective sample size has likely been overestimated\n",
      "WARNING:pystan:Rhat above 1.1 or below 0.9 indicates that the chains very likely have not mixed\n",
      "INFO:orbit:Sampling (PyStan) with chains: 4, cores: 2, temperature: 1.000, warmups (per chain): 225 and samples(per chain): 25.\n"
     ]
    },
    {
     "name": "stdout",
     "output_type": "stream",
     "text": [
      "LUX : 25.037830824413472\n"
     ]
    },
    {
     "name": "stderr",
     "output_type": "stream",
     "text": [
      "WARNING:pystan:n_eff / iter below 0.001 indicates that the effective sample size has likely been overestimated\n",
      "WARNING:pystan:Rhat above 1.1 or below 0.9 indicates that the chains very likely have not mixed\n",
      "INFO:orbit:Sampling (PyStan) with chains: 4, cores: 2, temperature: 1.000, warmups (per chain): 225 and samples(per chain): 25.\n"
     ]
    },
    {
     "name": "stdout",
     "output_type": "stream",
     "text": [
      "LVA : 7.961259723794952\n"
     ]
    },
    {
     "name": "stderr",
     "output_type": "stream",
     "text": [
      "WARNING:pystan:n_eff / iter below 0.001 indicates that the effective sample size has likely been overestimated\n",
      "WARNING:pystan:Rhat above 1.1 or below 0.9 indicates that the chains very likely have not mixed\n",
      "INFO:orbit:Sampling (PyStan) with chains: 4, cores: 2, temperature: 1.000, warmups (per chain): 225 and samples(per chain): 25.\n"
     ]
    },
    {
     "name": "stdout",
     "output_type": "stream",
     "text": [
      "MEX : 338.3350823399674\n"
     ]
    },
    {
     "name": "stderr",
     "output_type": "stream",
     "text": [
      "WARNING:pystan:n_eff / iter below 0.001 indicates that the effective sample size has likely been overestimated\n",
      "WARNING:pystan:Rhat above 1.1 or below 0.9 indicates that the chains very likely have not mixed\n",
      "INFO:orbit:Sampling (PyStan) with chains: 4, cores: 2, temperature: 1.000, warmups (per chain): 225 and samples(per chain): 25.\n"
     ]
    },
    {
     "name": "stdout",
     "output_type": "stream",
     "text": [
      "NLD : 14.620681052739426\n"
     ]
    },
    {
     "name": "stderr",
     "output_type": "stream",
     "text": [
      "WARNING:pystan:n_eff / iter below 0.001 indicates that the effective sample size has likely been overestimated\n",
      "WARNING:pystan:Rhat above 1.1 or below 0.9 indicates that the chains very likely have not mixed\n",
      "INFO:orbit:Sampling (PyStan) with chains: 4, cores: 2, temperature: 1.000, warmups (per chain): 225 and samples(per chain): 25.\n"
     ]
    },
    {
     "name": "stdout",
     "output_type": "stream",
     "text": [
      "NOR : 56.95048090103573\n"
     ]
    },
    {
     "name": "stderr",
     "output_type": "stream",
     "text": [
      "WARNING:pystan:n_eff / iter below 0.001 indicates that the effective sample size has likely been overestimated\n",
      "WARNING:pystan:Rhat above 1.1 or below 0.9 indicates that the chains very likely have not mixed\n",
      "INFO:orbit:Sampling (PyStan) with chains: 4, cores: 2, temperature: 1.000, warmups (per chain): 225 and samples(per chain): 25.\n"
     ]
    },
    {
     "name": "stdout",
     "output_type": "stream",
     "text": [
      "NZL : 52.558945363103845\n"
     ]
    },
    {
     "name": "stderr",
     "output_type": "stream",
     "text": [
      "WARNING:pystan:n_eff / iter below 0.001 indicates that the effective sample size has likely been overestimated\n",
      "WARNING:pystan:Rhat above 1.1 or below 0.9 indicates that the chains very likely have not mixed\n",
      "INFO:orbit:Sampling (PyStan) with chains: 4, cores: 2, temperature: 1.000, warmups (per chain): 225 and samples(per chain): 25.\n"
     ]
    },
    {
     "name": "stdout",
     "output_type": "stream",
     "text": [
      "POL : 31.352622812005304\n"
     ]
    },
    {
     "name": "stderr",
     "output_type": "stream",
     "text": [
      "WARNING:pystan:n_eff / iter below 0.001 indicates that the effective sample size has likely been overestimated\n",
      "WARNING:pystan:Rhat above 1.1 or below 0.9 indicates that the chains very likely have not mixed\n",
      "INFO:orbit:Sampling (PyStan) with chains: 4, cores: 2, temperature: 1.000, warmups (per chain): 225 and samples(per chain): 25.\n"
     ]
    },
    {
     "name": "stdout",
     "output_type": "stream",
     "text": [
      "PRT : 32.81980005648415\n"
     ]
    },
    {
     "name": "stderr",
     "output_type": "stream",
     "text": [
      "WARNING:pystan:n_eff / iter below 0.001 indicates that the effective sample size has likely been overestimated\n",
      "WARNING:pystan:Rhat above 1.1 or below 0.9 indicates that the chains very likely have not mixed\n",
      "INFO:orbit:Sampling (PyStan) with chains: 4, cores: 2, temperature: 1.000, warmups (per chain): 225 and samples(per chain): 25.\n"
     ]
    },
    {
     "name": "stdout",
     "output_type": "stream",
     "text": [
      "ROU : 81.23653105199736\n"
     ]
    },
    {
     "name": "stderr",
     "output_type": "stream",
     "text": [
      "WARNING:pystan:n_eff / iter below 0.001 indicates that the effective sample size has likely been overestimated\n",
      "WARNING:pystan:Rhat above 1.1 or below 0.9 indicates that the chains very likely have not mixed\n",
      "INFO:orbit:Sampling (PyStan) with chains: 4, cores: 2, temperature: 1.000, warmups (per chain): 225 and samples(per chain): 25.\n"
     ]
    },
    {
     "name": "stdout",
     "output_type": "stream",
     "text": [
      "RUS : 47.437789262338555\n"
     ]
    },
    {
     "name": "stderr",
     "output_type": "stream",
     "text": [
      "WARNING:pystan:n_eff / iter below 0.001 indicates that the effective sample size has likely been overestimated\n",
      "WARNING:pystan:Rhat above 1.1 or below 0.9 indicates that the chains very likely have not mixed\n",
      "INFO:orbit:Sampling (PyStan) with chains: 4, cores: 2, temperature: 1.000, warmups (per chain): 225 and samples(per chain): 25.\n"
     ]
    },
    {
     "name": "stdout",
     "output_type": "stream",
     "text": [
      "SVK : 41.25619837036296\n"
     ]
    },
    {
     "name": "stderr",
     "output_type": "stream",
     "text": [
      "WARNING:pystan:n_eff / iter below 0.001 indicates that the effective sample size has likely been overestimated\n",
      "WARNING:pystan:Rhat above 1.1 or below 0.9 indicates that the chains very likely have not mixed\n",
      "INFO:orbit:Sampling (PyStan) with chains: 4, cores: 2, temperature: 1.000, warmups (per chain): 225 and samples(per chain): 25.\n"
     ]
    },
    {
     "name": "stdout",
     "output_type": "stream",
     "text": [
      "SVN : 43.85822897475911\n"
     ]
    },
    {
     "name": "stderr",
     "output_type": "stream",
     "text": [
      "WARNING:pystan:n_eff / iter below 0.001 indicates that the effective sample size has likely been overestimated\n",
      "WARNING:pystan:Rhat above 1.1 or below 0.9 indicates that the chains very likely have not mixed\n",
      "INFO:orbit:Sampling (PyStan) with chains: 4, cores: 2, temperature: 1.000, warmups (per chain): 225 and samples(per chain): 25.\n"
     ]
    },
    {
     "name": "stdout",
     "output_type": "stream",
     "text": [
      "SWE : 10.652818324604956\n"
     ]
    },
    {
     "name": "stderr",
     "output_type": "stream",
     "text": [
      "WARNING:pystan:n_eff / iter below 0.001 indicates that the effective sample size has likely been overestimated\n",
      "WARNING:pystan:Rhat above 1.1 or below 0.9 indicates that the chains very likely have not mixed\n",
      "INFO:orbit:Sampling (PyStan) with chains: 4, cores: 2, temperature: 1.000, warmups (per chain): 225 and samples(per chain): 25.\n"
     ]
    },
    {
     "name": "stdout",
     "output_type": "stream",
     "text": [
      "TUR : 252.91507393078257\n"
     ]
    },
    {
     "name": "stderr",
     "output_type": "stream",
     "text": [
      "WARNING:pystan:n_eff / iter below 0.001 indicates that the effective sample size has likely been overestimated\n",
      "WARNING:pystan:Rhat above 1.1 or below 0.9 indicates that the chains very likely have not mixed\n",
      "INFO:orbit:Sampling (PyStan) with chains: 4, cores: 2, temperature: 1.000, warmups (per chain): 225 and samples(per chain): 25.\n"
     ]
    },
    {
     "name": "stdout",
     "output_type": "stream",
     "text": [
      "USA : 14.478531862395045\n"
     ]
    },
    {
     "name": "stderr",
     "output_type": "stream",
     "text": [
      "WARNING:pystan:n_eff / iter below 0.001 indicates that the effective sample size has likely been overestimated\n",
      "WARNING:pystan:Rhat above 1.1 or below 0.9 indicates that the chains very likely have not mixed\n"
     ]
    },
    {
     "name": "stdout",
     "output_type": "stream",
     "text": [
      "ZAF : 196.63053457074653\n"
     ]
    }
   ],
   "source": [
    "# попробуем убрать сезонность\n",
    "dlt_corr_seas = []\n",
    "for i in data_full['COUNTRY'].unique():\n",
    "    X_train, X_test = preprocessing(i)\n",
    "    \n",
    "    dlt = DLT(\n",
    "    response_col='Value', \n",
    "    date_col='date',\n",
    "    regressor_col=corrs)\n",
    "    \n",
    "    \n",
    "    dlt.fit(X_train)\n",
    "    predicted_df = dlt.predict(df=X_test)\n",
    "    \n",
    "    dlt_corr_seas.append(mean_squared_error(predicted_df['prediction'], X_test['Value'].values))\n",
    "    print(i ,':', mean_squared_error(predicted_df['prediction'], X_test['Value'].values))"
   ]
  },
  {
   "cell_type": "markdown",
   "id": "J1TIvnRengNi",
   "metadata": {
    "id": "J1TIvnRengNi"
   },
   "source": [
    "Также была рассмотрена модель LGT, но оказалась нерабочей по причине того, что она не может работать с отрицательными значениями в столбцах регрессеров, а у нас такие есть."
   ]
  },
  {
   "cell_type": "markdown",
   "id": "miRdXwf9nhcI",
   "metadata": {
    "id": "miRdXwf9nhcI"
   },
   "source": [
    "#### Exponential Smoothing"
   ]
  },
  {
   "cell_type": "code",
   "execution_count": 28,
   "id": "bT2toTnVncQf",
   "metadata": {
    "colab": {
     "base_uri": "https://localhost:8080/"
    },
    "id": "bT2toTnVncQf",
    "outputId": "34ad033c-9c56-4d0f-dd70-1f174c23f166"
   },
   "outputs": [
    {
     "name": "stdout",
     "output_type": "stream",
     "text": [
      "ARG : 421.55063650558384\n",
      "AUS : 70.4097934851262\n",
      "AUT : 131.71464954443655\n",
      "BEL : 143.17117780360243\n",
      "BGR : 75.92041440682809\n",
      "BRA : 87.75413824522903\n",
      "CAN : 115.25956636778704\n",
      "CHE : 35.44734560702676\n",
      "CHL : 489.0007817287333\n",
      "COL : 404.24444837792765\n",
      "CRI : 207.7704503378471\n",
      "CZE : 77.99206849022093\n",
      "DEU : 64.56988895790899\n",
      "DNK : 41.834940283557096\n",
      "ESP : 273.47210412195693\n",
      "EST : 123.6605501472367\n",
      "FIN : 32.896363346662085\n",
      "FRA : 206.93250822007926\n",
      "GBR : 358.3407387735952\n",
      "GRC : 362.4960009667624\n",
      "HUN : 173.93477605722967\n",
      "IDN : 49.076113270306614\n",
      "IND : 300.50875682580386\n",
      "IRL : 34.372288782908456\n",
      "ISL : 145.15949511788597\n",
      "ISR : 108.77489325925566\n",
      "ITA : 216.58064287279538\n",
      "JPN : 56.486882544586855\n",
      "KOR : 22.228502813575126\n",
      "LTU : 28.14522419241613\n",
      "LUX : 71.18578642046023\n",
      "LVA : 61.48180210234562\n",
      "MEX : 271.36159829711386\n",
      "NLD : 79.63698996946958\n",
      "NOR : 24.08517184224657\n",
      "NZL : 78.01515313573414\n",
      "POL : 69.9871103082411\n",
      "PRT : 196.00418008515805\n",
      "ROU : 157.71561184611755\n",
      "RUS : 37.94226441577935\n",
      "SVK : 38.951924681715354\n",
      "SVN : 114.21758813694122\n",
      "SWE : 43.93790522228332\n",
      "TUR : 85.31812498414496\n",
      "USA : 92.06932969469788\n",
      "ZAF : 182.3144155764295\n"
     ]
    }
   ],
   "source": [
    "es_list = []\n",
    "for i in data_full['COUNTRY'].unique():\n",
    "    trains_ts, test_ts, fh = preprocessing(i, orbit=False)\n",
    "    \n",
    "    es = ExponentialSmoothing().fit(trains_ts)\n",
    "    y_pred = es.predict(fh)\n",
    "\n",
    "    es_list.append(mean_squared_error(y_pred, test_ts.values))\n",
    "    print(i, ':', mean_squared_error(y_pred, test_ts.values))"
   ]
  },
  {
   "cell_type": "markdown",
   "id": "KdR363DnnraJ",
   "metadata": {
    "id": "KdR363DnnraJ"
   },
   "source": [
    "#### ARIMA, AutoARIMA"
   ]
  },
  {
   "cell_type": "code",
   "execution_count": 29,
   "id": "BvIJzGktnqJ9",
   "metadata": {
    "colab": {
     "base_uri": "https://localhost:8080/"
    },
    "id": "BvIJzGktnqJ9",
    "outputId": "0ae38dbe-0ca3-4074-f17f-be6c58c999e6"
   },
   "outputs": [
    {
     "name": "stdout",
     "output_type": "stream",
     "text": [
      "ARG : 377.8225534049711\n",
      "AUS : 39.25930373798547\n",
      "AUT : 258.89146191984923\n",
      "BEL : 58.61047009236207\n",
      "BGR : 39.34767180043071\n",
      "BRA : 79.95554175916305\n",
      "CAN : 121.71570207609156\n"
     ]
    },
    {
     "name": "stderr",
     "output_type": "stream",
     "text": [
      "/usr/local/lib/python3.7/dist-packages/statsmodels/base/model.py:606: ConvergenceWarning: Maximum Likelihood optimization failed to converge. Check mle_retvals\n",
      "  ConvergenceWarning)\n"
     ]
    },
    {
     "name": "stdout",
     "output_type": "stream",
     "text": [
      "CHE : 9.996684285582658\n",
      "CHL : 712.9078019815909\n",
      "COL : 579.5108305230013\n",
      "CRI : 199.05576588356112\n",
      "CZE : 34.254161556605595\n",
      "DEU : 45.616581044402466\n",
      "DNK : 14.791793088380045\n",
      "ESP : 280.78831327822667\n",
      "EST : 12.907113430447488\n",
      "FIN : 4.911946418530506\n",
      "FRA : 82.76633948348714\n",
      "GBR : 576.9715076639327\n",
      "GRC : 286.5436909767657\n",
      "HUN : 159.21523407299745\n",
      "IDN : 116.48921958867066\n",
      "IND : 797.7294904377311\n",
      "IRL : 37.0233539457459\n",
      "ISL : 85.81872660045484\n",
      "ISR : 56.60109761995474\n",
      "ITA : 75.59395148364443\n",
      "JPN : 39.76784531057661\n",
      "KOR : 15.2521015171662\n",
      "LTU : 20.29349889044611\n",
      "LUX : 21.077745947243343\n",
      "LVA : 12.873830528735077\n",
      "MEX : 359.8124200564394\n",
      "NLD : 79.29023166254085\n",
      "NOR : 19.78760826902645\n",
      "NZL : 103.1145446738776\n",
      "POL : 112.82820413063092\n",
      "PRT : 53.36295786546514\n",
      "ROU : 131.35094343799244\n",
      "RUS : 9.600176223364537\n",
      "SVK : 12.055859900620657\n",
      "SVN : 31.2622243615722\n",
      "SWE : 26.16749503279066\n",
      "TUR : 52.12235880376141\n",
      "USA : 26.13335996083077\n",
      "ZAF : 392.05890279117017\n"
     ]
    }
   ],
   "source": [
    "from sktime.forecasting.arima import ARIMA\n",
    "\n",
    "\n",
    "arima_list = []\n",
    "for i in data_full['COUNTRY'].unique():\n",
    "    trains_ts, test_ts, fh = preprocessing(i, orbit=False)\n",
    "\n",
    "    ar = ARIMA(order=(1, 1, 1), seasonal_order=(1, 0, 0, 4), scoring='mse')\n",
    "    ar.fit(trains_ts)\n",
    "    y_pred = ar.predict(fh)\n",
    "\n",
    "    arima_list.append(mean_squared_error(y_pred, test_ts.values))\n",
    "    print(i, ':', mean_squared_error(y_pred, test_ts.values))"
   ]
  },
  {
   "cell_type": "code",
   "execution_count": 35,
   "id": "stK2vzTM0KYa",
   "metadata": {
    "colab": {
     "base_uri": "https://localhost:8080/"
    },
    "id": "stK2vzTM0KYa",
    "outputId": "6d64fe2f-ba66-4490-9ee1-6450a63179ec"
   },
   "outputs": [
    {
     "name": "stdout",
     "output_type": "stream",
     "text": [
      "ARG : 374.42742969513074\n",
      "AUS : 77.57399760633463\n",
      "AUT : 308.87671677739644\n",
      "BEL : 247.45814331072341\n",
      "BGR : 13.262487144423819\n",
      "BRA : 112.1731306335141\n",
      "CAN : 78.52419146576392\n",
      "CHE : 44.69571333856736\n",
      "CHL : 457.924752419155\n",
      "COL : 371.8551496817411\n",
      "CRI : 351.40307490893196\n",
      "CZE : 31.42990528384593\n",
      "DEU : 43.37137746736141\n",
      "DNK : 26.785981036590172\n",
      "ESP : 682.2109370917401\n",
      "EST : 7.911536094564752\n",
      "FIN : 6.929203163154607\n",
      "FRA : 374.980467389205\n",
      "GBR : 594.1615107400929\n",
      "GRC : 472.7315808174665\n",
      "HUN : 81.48271090940838\n",
      "IDN : 918.4199958604781\n",
      "IND : 2537.3418220709955\n",
      "IRL : 27.85144762325871\n",
      "ISL : 94.17264031745968\n",
      "ISR : 98.2502058907672\n",
      "ITA : 406.2663299109559\n",
      "JPN : 52.34239074990773\n",
      "KOR : 13.822261410920769\n",
      "LTU : 33.618547854698214\n",
      "LUX : 25.77941052668967\n",
      "LVA : 64.6699623727275\n",
      "MEX : 354.2296147587883\n",
      "NLD : 120.27465400574077\n",
      "NOR : 12.533997508597762\n",
      "NZL : 112.21508698650918\n",
      "POL : 36.57683274316708\n",
      "PRT : 428.0682018000155\n",
      "ROU : 184.0759214489471\n",
      "RUS : 18.964628163847696\n",
      "SVK : 21.345497300416756\n",
      "SVN : 39.431903491732605\n",
      "SWE : 9.011892481432978\n",
      "TUR : 29.23167569920014\n",
      "USA : 50.173567662928306\n",
      "ZAF : 1084.7262367165663\n"
     ]
    }
   ],
   "source": [
    "from sktime.forecasting.arima import AutoARIMA\n",
    "\n",
    "autoarima_list = []\n",
    "for i in data_full['COUNTRY'].unique():\n",
    "    trains_ts, test_ts, fh = preprocessing(i, orbit=False)\n",
    "\n",
    "    sar = AutoARIMA(start_p=1, d=0, start_q=0, \n",
    "                       max_p=2, max_d=1, max_q=0, \n",
    "                       start_P=1, D=1, start_Q=0, \n",
    "                       max_P=2, max_D=2, max_Q=2, \n",
    "                       sp=4, suppress_warnings=True, stepwise=False, n_jobs=-1)\n",
    "\n",
    "    sar.fit(trains_ts)\n",
    "    y_pred = sar.predict(fh)\n",
    "\n",
    "    autoarima_list.append(mean_squared_error(y_pred, test_ts.values))\n",
    "    print(i, ':', mean_squared_error(y_pred, test_ts.values))"
   ]
  },
  {
   "cell_type": "code",
   "execution_count": 36,
   "id": "MRM97Sif2iGS",
   "metadata": {
    "id": "MRM97Sif2iGS"
   },
   "outputs": [],
   "source": [
    "res = pd.DataFrame({'country': data_full['COUNTRY'].unique(), 'DLT_full_sp':dlt_full, 'DLT_corr_sp':dlt_corr, 'DLT_corr':dlt_corr_seas, 'ExpSmooth': es_list, 'ARIMA': arima_list, 'AutoARIMA':autoarima_list})\n",
    "res.to_csv('res.csv')"
   ]
  },
  {
   "cell_type": "code",
   "execution_count": 37,
   "id": "1ss_QTzd2mSV",
   "metadata": {
    "colab": {
     "base_uri": "https://localhost:8080/",
     "height": 1000
    },
    "id": "1ss_QTzd2mSV",
    "outputId": "ffe262a4-80f9-449d-f3b7-87b5e5dba61e"
   },
   "outputs": [
    {
     "data": {
      "text/html": [
       "\n",
       "  <div id=\"df-9e84ca24-8fb3-4a64-ac50-59787edff71f\">\n",
       "    <div class=\"colab-df-container\">\n",
       "      <div>\n",
       "<style scoped>\n",
       "    .dataframe tbody tr th:only-of-type {\n",
       "        vertical-align: middle;\n",
       "    }\n",
       "\n",
       "    .dataframe tbody tr th {\n",
       "        vertical-align: top;\n",
       "    }\n",
       "\n",
       "    .dataframe thead th {\n",
       "        text-align: right;\n",
       "    }\n",
       "</style>\n",
       "<table border=\"1\" class=\"dataframe\">\n",
       "  <thead>\n",
       "    <tr style=\"text-align: right;\">\n",
       "      <th></th>\n",
       "      <th>country</th>\n",
       "      <th>DLT_full_sp</th>\n",
       "      <th>DLT_corr_sp</th>\n",
       "      <th>DLT_corr</th>\n",
       "      <th>ExpSmooth</th>\n",
       "      <th>ARIMA</th>\n",
       "      <th>AutoARIMA</th>\n",
       "    </tr>\n",
       "  </thead>\n",
       "  <tbody>\n",
       "    <tr>\n",
       "      <th>0</th>\n",
       "      <td>ARG</td>\n",
       "      <td>109.013274</td>\n",
       "      <td>401.404152</td>\n",
       "      <td>512.662468</td>\n",
       "      <td>421.550637</td>\n",
       "      <td>377.822553</td>\n",
       "      <td>374.427430</td>\n",
       "    </tr>\n",
       "    <tr>\n",
       "      <th>1</th>\n",
       "      <td>AUS</td>\n",
       "      <td>166.924941</td>\n",
       "      <td>79.236004</td>\n",
       "      <td>61.175228</td>\n",
       "      <td>70.409793</td>\n",
       "      <td>39.259304</td>\n",
       "      <td>77.573998</td>\n",
       "    </tr>\n",
       "    <tr>\n",
       "      <th>2</th>\n",
       "      <td>AUT</td>\n",
       "      <td>57.534313</td>\n",
       "      <td>98.285582</td>\n",
       "      <td>54.609266</td>\n",
       "      <td>131.714650</td>\n",
       "      <td>258.891462</td>\n",
       "      <td>308.876717</td>\n",
       "    </tr>\n",
       "    <tr>\n",
       "      <th>3</th>\n",
       "      <td>BEL</td>\n",
       "      <td>556.266795</td>\n",
       "      <td>82.549689</td>\n",
       "      <td>22.935062</td>\n",
       "      <td>143.171178</td>\n",
       "      <td>58.610470</td>\n",
       "      <td>247.458143</td>\n",
       "    </tr>\n",
       "    <tr>\n",
       "      <th>4</th>\n",
       "      <td>BGR</td>\n",
       "      <td>2.294285</td>\n",
       "      <td>60.085058</td>\n",
       "      <td>37.370500</td>\n",
       "      <td>75.920414</td>\n",
       "      <td>39.347672</td>\n",
       "      <td>13.262487</td>\n",
       "    </tr>\n",
       "    <tr>\n",
       "      <th>5</th>\n",
       "      <td>BRA</td>\n",
       "      <td>254.818333</td>\n",
       "      <td>206.192276</td>\n",
       "      <td>205.332607</td>\n",
       "      <td>87.754138</td>\n",
       "      <td>79.955542</td>\n",
       "      <td>112.173131</td>\n",
       "    </tr>\n",
       "    <tr>\n",
       "      <th>6</th>\n",
       "      <td>CAN</td>\n",
       "      <td>401.473804</td>\n",
       "      <td>66.456278</td>\n",
       "      <td>102.263612</td>\n",
       "      <td>115.259566</td>\n",
       "      <td>121.715702</td>\n",
       "      <td>78.524191</td>\n",
       "    </tr>\n",
       "    <tr>\n",
       "      <th>7</th>\n",
       "      <td>CHE</td>\n",
       "      <td>97.307523</td>\n",
       "      <td>9.517487</td>\n",
       "      <td>11.643148</td>\n",
       "      <td>35.447346</td>\n",
       "      <td>9.996684</td>\n",
       "      <td>44.695713</td>\n",
       "    </tr>\n",
       "    <tr>\n",
       "      <th>8</th>\n",
       "      <td>CHL</td>\n",
       "      <td>521.665649</td>\n",
       "      <td>386.458620</td>\n",
       "      <td>433.567517</td>\n",
       "      <td>489.000782</td>\n",
       "      <td>712.907802</td>\n",
       "      <td>457.924752</td>\n",
       "    </tr>\n",
       "    <tr>\n",
       "      <th>9</th>\n",
       "      <td>COL</td>\n",
       "      <td>463.149849</td>\n",
       "      <td>392.888773</td>\n",
       "      <td>455.832354</td>\n",
       "      <td>404.244448</td>\n",
       "      <td>579.510831</td>\n",
       "      <td>371.855150</td>\n",
       "    </tr>\n",
       "    <tr>\n",
       "      <th>10</th>\n",
       "      <td>CRI</td>\n",
       "      <td>204.832267</td>\n",
       "      <td>127.425580</td>\n",
       "      <td>120.300714</td>\n",
       "      <td>207.770450</td>\n",
       "      <td>199.055766</td>\n",
       "      <td>351.403075</td>\n",
       "    </tr>\n",
       "    <tr>\n",
       "      <th>11</th>\n",
       "      <td>CZE</td>\n",
       "      <td>51.242127</td>\n",
       "      <td>27.705043</td>\n",
       "      <td>39.742707</td>\n",
       "      <td>77.992068</td>\n",
       "      <td>34.254162</td>\n",
       "      <td>31.429905</td>\n",
       "    </tr>\n",
       "    <tr>\n",
       "      <th>12</th>\n",
       "      <td>DEU</td>\n",
       "      <td>221.308787</td>\n",
       "      <td>13.324320</td>\n",
       "      <td>15.056105</td>\n",
       "      <td>64.569889</td>\n",
       "      <td>45.616581</td>\n",
       "      <td>43.371377</td>\n",
       "    </tr>\n",
       "    <tr>\n",
       "      <th>13</th>\n",
       "      <td>DNK</td>\n",
       "      <td>74.231933</td>\n",
       "      <td>6.580094</td>\n",
       "      <td>9.087030</td>\n",
       "      <td>41.834940</td>\n",
       "      <td>14.791793</td>\n",
       "      <td>26.785981</td>\n",
       "    </tr>\n",
       "    <tr>\n",
       "      <th>14</th>\n",
       "      <td>ESP</td>\n",
       "      <td>636.460584</td>\n",
       "      <td>80.592817</td>\n",
       "      <td>36.145080</td>\n",
       "      <td>273.472104</td>\n",
       "      <td>280.788313</td>\n",
       "      <td>682.210937</td>\n",
       "    </tr>\n",
       "    <tr>\n",
       "      <th>15</th>\n",
       "      <td>EST</td>\n",
       "      <td>61.883966</td>\n",
       "      <td>366.171154</td>\n",
       "      <td>955.985894</td>\n",
       "      <td>123.660550</td>\n",
       "      <td>12.907113</td>\n",
       "      <td>7.911536</td>\n",
       "    </tr>\n",
       "    <tr>\n",
       "      <th>16</th>\n",
       "      <td>FIN</td>\n",
       "      <td>7.822854</td>\n",
       "      <td>5.148642</td>\n",
       "      <td>7.035805</td>\n",
       "      <td>32.896363</td>\n",
       "      <td>4.911946</td>\n",
       "      <td>6.929203</td>\n",
       "    </tr>\n",
       "    <tr>\n",
       "      <th>17</th>\n",
       "      <td>FRA</td>\n",
       "      <td>141.361951</td>\n",
       "      <td>44.176741</td>\n",
       "      <td>35.781987</td>\n",
       "      <td>206.932508</td>\n",
       "      <td>82.766339</td>\n",
       "      <td>374.980467</td>\n",
       "    </tr>\n",
       "    <tr>\n",
       "      <th>18</th>\n",
       "      <td>GBR</td>\n",
       "      <td>181.210188</td>\n",
       "      <td>172.611864</td>\n",
       "      <td>64.628176</td>\n",
       "      <td>358.340739</td>\n",
       "      <td>576.971508</td>\n",
       "      <td>594.161511</td>\n",
       "    </tr>\n",
       "    <tr>\n",
       "      <th>19</th>\n",
       "      <td>GRC</td>\n",
       "      <td>507.883211</td>\n",
       "      <td>459.180058</td>\n",
       "      <td>461.953160</td>\n",
       "      <td>362.496001</td>\n",
       "      <td>286.543691</td>\n",
       "      <td>472.731581</td>\n",
       "    </tr>\n",
       "    <tr>\n",
       "      <th>20</th>\n",
       "      <td>HUN</td>\n",
       "      <td>119.493600</td>\n",
       "      <td>107.605226</td>\n",
       "      <td>232.677373</td>\n",
       "      <td>173.934776</td>\n",
       "      <td>159.215234</td>\n",
       "      <td>81.482711</td>\n",
       "    </tr>\n",
       "    <tr>\n",
       "      <th>21</th>\n",
       "      <td>IDN</td>\n",
       "      <td>16.837279</td>\n",
       "      <td>128.186647</td>\n",
       "      <td>82.512506</td>\n",
       "      <td>49.076113</td>\n",
       "      <td>116.489220</td>\n",
       "      <td>918.419996</td>\n",
       "    </tr>\n",
       "    <tr>\n",
       "      <th>22</th>\n",
       "      <td>IND</td>\n",
       "      <td>351.964432</td>\n",
       "      <td>292.274117</td>\n",
       "      <td>101.244542</td>\n",
       "      <td>300.508757</td>\n",
       "      <td>797.729490</td>\n",
       "      <td>2537.341822</td>\n",
       "    </tr>\n",
       "    <tr>\n",
       "      <th>23</th>\n",
       "      <td>IRL</td>\n",
       "      <td>209.221129</td>\n",
       "      <td>97.513830</td>\n",
       "      <td>206.589114</td>\n",
       "      <td>34.372289</td>\n",
       "      <td>37.023354</td>\n",
       "      <td>27.851448</td>\n",
       "    </tr>\n",
       "    <tr>\n",
       "      <th>24</th>\n",
       "      <td>ISL</td>\n",
       "      <td>40.132189</td>\n",
       "      <td>37.799697</td>\n",
       "      <td>63.004665</td>\n",
       "      <td>145.159495</td>\n",
       "      <td>85.818727</td>\n",
       "      <td>94.172640</td>\n",
       "    </tr>\n",
       "    <tr>\n",
       "      <th>25</th>\n",
       "      <td>ISR</td>\n",
       "      <td>40.270595</td>\n",
       "      <td>44.946358</td>\n",
       "      <td>16.529002</td>\n",
       "      <td>108.774893</td>\n",
       "      <td>56.601098</td>\n",
       "      <td>98.250206</td>\n",
       "    </tr>\n",
       "    <tr>\n",
       "      <th>26</th>\n",
       "      <td>ITA</td>\n",
       "      <td>83.220183</td>\n",
       "      <td>387.760633</td>\n",
       "      <td>648.119617</td>\n",
       "      <td>216.580643</td>\n",
       "      <td>75.593951</td>\n",
       "      <td>406.266330</td>\n",
       "    </tr>\n",
       "    <tr>\n",
       "      <th>27</th>\n",
       "      <td>JPN</td>\n",
       "      <td>141.183375</td>\n",
       "      <td>61.196680</td>\n",
       "      <td>17.981612</td>\n",
       "      <td>56.486883</td>\n",
       "      <td>39.767845</td>\n",
       "      <td>52.342391</td>\n",
       "    </tr>\n",
       "    <tr>\n",
       "      <th>28</th>\n",
       "      <td>KOR</td>\n",
       "      <td>43.736247</td>\n",
       "      <td>4.238172</td>\n",
       "      <td>5.277793</td>\n",
       "      <td>22.228503</td>\n",
       "      <td>15.252102</td>\n",
       "      <td>13.822261</td>\n",
       "    </tr>\n",
       "    <tr>\n",
       "      <th>29</th>\n",
       "      <td>LTU</td>\n",
       "      <td>21.992047</td>\n",
       "      <td>25.292634</td>\n",
       "      <td>61.052415</td>\n",
       "      <td>28.145224</td>\n",
       "      <td>20.293499</td>\n",
       "      <td>33.618548</td>\n",
       "    </tr>\n",
       "    <tr>\n",
       "      <th>30</th>\n",
       "      <td>LUX</td>\n",
       "      <td>126.705742</td>\n",
       "      <td>17.373489</td>\n",
       "      <td>25.037831</td>\n",
       "      <td>71.185786</td>\n",
       "      <td>21.077746</td>\n",
       "      <td>25.779411</td>\n",
       "    </tr>\n",
       "    <tr>\n",
       "      <th>31</th>\n",
       "      <td>LVA</td>\n",
       "      <td>22.256090</td>\n",
       "      <td>11.434815</td>\n",
       "      <td>7.961260</td>\n",
       "      <td>61.481802</td>\n",
       "      <td>12.873831</td>\n",
       "      <td>64.669962</td>\n",
       "    </tr>\n",
       "    <tr>\n",
       "      <th>32</th>\n",
       "      <td>MEX</td>\n",
       "      <td>512.626775</td>\n",
       "      <td>388.929330</td>\n",
       "      <td>338.335082</td>\n",
       "      <td>271.361598</td>\n",
       "      <td>359.812420</td>\n",
       "      <td>354.229615</td>\n",
       "    </tr>\n",
       "    <tr>\n",
       "      <th>33</th>\n",
       "      <td>NLD</td>\n",
       "      <td>17.914467</td>\n",
       "      <td>26.909929</td>\n",
       "      <td>14.620681</td>\n",
       "      <td>79.636990</td>\n",
       "      <td>79.290232</td>\n",
       "      <td>120.274654</td>\n",
       "    </tr>\n",
       "    <tr>\n",
       "      <th>34</th>\n",
       "      <td>NOR</td>\n",
       "      <td>43.411446</td>\n",
       "      <td>61.371389</td>\n",
       "      <td>56.950481</td>\n",
       "      <td>24.085172</td>\n",
       "      <td>19.787608</td>\n",
       "      <td>12.533998</td>\n",
       "    </tr>\n",
       "    <tr>\n",
       "      <th>35</th>\n",
       "      <td>NZL</td>\n",
       "      <td>214.108869</td>\n",
       "      <td>34.133590</td>\n",
       "      <td>52.558945</td>\n",
       "      <td>78.015153</td>\n",
       "      <td>103.114545</td>\n",
       "      <td>112.215087</td>\n",
       "    </tr>\n",
       "    <tr>\n",
       "      <th>36</th>\n",
       "      <td>POL</td>\n",
       "      <td>47.200089</td>\n",
       "      <td>27.632566</td>\n",
       "      <td>31.352623</td>\n",
       "      <td>69.987110</td>\n",
       "      <td>112.828204</td>\n",
       "      <td>36.576833</td>\n",
       "    </tr>\n",
       "    <tr>\n",
       "      <th>37</th>\n",
       "      <td>PRT</td>\n",
       "      <td>117.130137</td>\n",
       "      <td>45.030910</td>\n",
       "      <td>32.819800</td>\n",
       "      <td>196.004180</td>\n",
       "      <td>53.362958</td>\n",
       "      <td>428.068202</td>\n",
       "    </tr>\n",
       "    <tr>\n",
       "      <th>38</th>\n",
       "      <td>ROU</td>\n",
       "      <td>66.419311</td>\n",
       "      <td>79.517051</td>\n",
       "      <td>81.236531</td>\n",
       "      <td>157.715612</td>\n",
       "      <td>131.350943</td>\n",
       "      <td>184.075921</td>\n",
       "    </tr>\n",
       "    <tr>\n",
       "      <th>39</th>\n",
       "      <td>RUS</td>\n",
       "      <td>89.138119</td>\n",
       "      <td>87.484680</td>\n",
       "      <td>47.437789</td>\n",
       "      <td>37.942264</td>\n",
       "      <td>9.600176</td>\n",
       "      <td>18.964628</td>\n",
       "    </tr>\n",
       "    <tr>\n",
       "      <th>40</th>\n",
       "      <td>SVK</td>\n",
       "      <td>20.916951</td>\n",
       "      <td>21.032175</td>\n",
       "      <td>41.256198</td>\n",
       "      <td>38.951925</td>\n",
       "      <td>12.055860</td>\n",
       "      <td>21.345497</td>\n",
       "    </tr>\n",
       "    <tr>\n",
       "      <th>41</th>\n",
       "      <td>SVN</td>\n",
       "      <td>45.299032</td>\n",
       "      <td>38.286397</td>\n",
       "      <td>43.858229</td>\n",
       "      <td>114.217588</td>\n",
       "      <td>31.262224</td>\n",
       "      <td>39.431903</td>\n",
       "    </tr>\n",
       "    <tr>\n",
       "      <th>42</th>\n",
       "      <td>SWE</td>\n",
       "      <td>34.797068</td>\n",
       "      <td>9.679910</td>\n",
       "      <td>10.652818</td>\n",
       "      <td>43.937905</td>\n",
       "      <td>26.167495</td>\n",
       "      <td>9.011892</td>\n",
       "    </tr>\n",
       "    <tr>\n",
       "      <th>43</th>\n",
       "      <td>TUR</td>\n",
       "      <td>92.257211</td>\n",
       "      <td>145.902566</td>\n",
       "      <td>252.915074</td>\n",
       "      <td>85.318125</td>\n",
       "      <td>52.122359</td>\n",
       "      <td>29.231676</td>\n",
       "    </tr>\n",
       "    <tr>\n",
       "      <th>44</th>\n",
       "      <td>USA</td>\n",
       "      <td>10.932331</td>\n",
       "      <td>15.499071</td>\n",
       "      <td>14.478532</td>\n",
       "      <td>92.069330</td>\n",
       "      <td>26.133360</td>\n",
       "      <td>50.173568</td>\n",
       "    </tr>\n",
       "    <tr>\n",
       "      <th>45</th>\n",
       "      <td>ZAF</td>\n",
       "      <td>97.915389</td>\n",
       "      <td>154.364518</td>\n",
       "      <td>196.630535</td>\n",
       "      <td>182.314416</td>\n",
       "      <td>392.058903</td>\n",
       "      <td>1084.726237</td>\n",
       "    </tr>\n",
       "  </tbody>\n",
       "</table>\n",
       "</div>\n",
       "      <button class=\"colab-df-convert\" onclick=\"convertToInteractive('df-9e84ca24-8fb3-4a64-ac50-59787edff71f')\"\n",
       "              title=\"Convert this dataframe to an interactive table.\"\n",
       "              style=\"display:none;\">\n",
       "        \n",
       "  <svg xmlns=\"http://www.w3.org/2000/svg\" height=\"24px\"viewBox=\"0 0 24 24\"\n",
       "       width=\"24px\">\n",
       "    <path d=\"M0 0h24v24H0V0z\" fill=\"none\"/>\n",
       "    <path d=\"M18.56 5.44l.94 2.06.94-2.06 2.06-.94-2.06-.94-.94-2.06-.94 2.06-2.06.94zm-11 1L8.5 8.5l.94-2.06 2.06-.94-2.06-.94L8.5 2.5l-.94 2.06-2.06.94zm10 10l.94 2.06.94-2.06 2.06-.94-2.06-.94-.94-2.06-.94 2.06-2.06.94z\"/><path d=\"M17.41 7.96l-1.37-1.37c-.4-.4-.92-.59-1.43-.59-.52 0-1.04.2-1.43.59L10.3 9.45l-7.72 7.72c-.78.78-.78 2.05 0 2.83L4 21.41c.39.39.9.59 1.41.59.51 0 1.02-.2 1.41-.59l7.78-7.78 2.81-2.81c.8-.78.8-2.07 0-2.86zM5.41 20L4 18.59l7.72-7.72 1.47 1.35L5.41 20z\"/>\n",
       "  </svg>\n",
       "      </button>\n",
       "      \n",
       "  <style>\n",
       "    .colab-df-container {\n",
       "      display:flex;\n",
       "      flex-wrap:wrap;\n",
       "      gap: 12px;\n",
       "    }\n",
       "\n",
       "    .colab-df-convert {\n",
       "      background-color: #E8F0FE;\n",
       "      border: none;\n",
       "      border-radius: 50%;\n",
       "      cursor: pointer;\n",
       "      display: none;\n",
       "      fill: #1967D2;\n",
       "      height: 32px;\n",
       "      padding: 0 0 0 0;\n",
       "      width: 32px;\n",
       "    }\n",
       "\n",
       "    .colab-df-convert:hover {\n",
       "      background-color: #E2EBFA;\n",
       "      box-shadow: 0px 1px 2px rgba(60, 64, 67, 0.3), 0px 1px 3px 1px rgba(60, 64, 67, 0.15);\n",
       "      fill: #174EA6;\n",
       "    }\n",
       "\n",
       "    [theme=dark] .colab-df-convert {\n",
       "      background-color: #3B4455;\n",
       "      fill: #D2E3FC;\n",
       "    }\n",
       "\n",
       "    [theme=dark] .colab-df-convert:hover {\n",
       "      background-color: #434B5C;\n",
       "      box-shadow: 0px 1px 3px 1px rgba(0, 0, 0, 0.15);\n",
       "      filter: drop-shadow(0px 1px 2px rgba(0, 0, 0, 0.3));\n",
       "      fill: #FFFFFF;\n",
       "    }\n",
       "  </style>\n",
       "\n",
       "      <script>\n",
       "        const buttonEl =\n",
       "          document.querySelector('#df-9e84ca24-8fb3-4a64-ac50-59787edff71f button.colab-df-convert');\n",
       "        buttonEl.style.display =\n",
       "          google.colab.kernel.accessAllowed ? 'block' : 'none';\n",
       "\n",
       "        async function convertToInteractive(key) {\n",
       "          const element = document.querySelector('#df-9e84ca24-8fb3-4a64-ac50-59787edff71f');\n",
       "          const dataTable =\n",
       "            await google.colab.kernel.invokeFunction('convertToInteractive',\n",
       "                                                     [key], {});\n",
       "          if (!dataTable) return;\n",
       "\n",
       "          const docLinkHtml = 'Like what you see? Visit the ' +\n",
       "            '<a target=\"_blank\" href=https://colab.research.google.com/notebooks/data_table.ipynb>data table notebook</a>'\n",
       "            + ' to learn more about interactive tables.';\n",
       "          element.innerHTML = '';\n",
       "          dataTable['output_type'] = 'display_data';\n",
       "          await google.colab.output.renderOutput(dataTable, element);\n",
       "          const docLink = document.createElement('div');\n",
       "          docLink.innerHTML = docLinkHtml;\n",
       "          element.appendChild(docLink);\n",
       "        }\n",
       "      </script>\n",
       "    </div>\n",
       "  </div>\n",
       "  "
      ],
      "text/plain": [
       "   country  DLT_full_sp  DLT_corr_sp    DLT_corr   ExpSmooth       ARIMA  \\\n",
       "0      ARG   109.013274   401.404152  512.662468  421.550637  377.822553   \n",
       "1      AUS   166.924941    79.236004   61.175228   70.409793   39.259304   \n",
       "2      AUT    57.534313    98.285582   54.609266  131.714650  258.891462   \n",
       "3      BEL   556.266795    82.549689   22.935062  143.171178   58.610470   \n",
       "4      BGR     2.294285    60.085058   37.370500   75.920414   39.347672   \n",
       "5      BRA   254.818333   206.192276  205.332607   87.754138   79.955542   \n",
       "6      CAN   401.473804    66.456278  102.263612  115.259566  121.715702   \n",
       "7      CHE    97.307523     9.517487   11.643148   35.447346    9.996684   \n",
       "8      CHL   521.665649   386.458620  433.567517  489.000782  712.907802   \n",
       "9      COL   463.149849   392.888773  455.832354  404.244448  579.510831   \n",
       "10     CRI   204.832267   127.425580  120.300714  207.770450  199.055766   \n",
       "11     CZE    51.242127    27.705043   39.742707   77.992068   34.254162   \n",
       "12     DEU   221.308787    13.324320   15.056105   64.569889   45.616581   \n",
       "13     DNK    74.231933     6.580094    9.087030   41.834940   14.791793   \n",
       "14     ESP   636.460584    80.592817   36.145080  273.472104  280.788313   \n",
       "15     EST    61.883966   366.171154  955.985894  123.660550   12.907113   \n",
       "16     FIN     7.822854     5.148642    7.035805   32.896363    4.911946   \n",
       "17     FRA   141.361951    44.176741   35.781987  206.932508   82.766339   \n",
       "18     GBR   181.210188   172.611864   64.628176  358.340739  576.971508   \n",
       "19     GRC   507.883211   459.180058  461.953160  362.496001  286.543691   \n",
       "20     HUN   119.493600   107.605226  232.677373  173.934776  159.215234   \n",
       "21     IDN    16.837279   128.186647   82.512506   49.076113  116.489220   \n",
       "22     IND   351.964432   292.274117  101.244542  300.508757  797.729490   \n",
       "23     IRL   209.221129    97.513830  206.589114   34.372289   37.023354   \n",
       "24     ISL    40.132189    37.799697   63.004665  145.159495   85.818727   \n",
       "25     ISR    40.270595    44.946358   16.529002  108.774893   56.601098   \n",
       "26     ITA    83.220183   387.760633  648.119617  216.580643   75.593951   \n",
       "27     JPN   141.183375    61.196680   17.981612   56.486883   39.767845   \n",
       "28     KOR    43.736247     4.238172    5.277793   22.228503   15.252102   \n",
       "29     LTU    21.992047    25.292634   61.052415   28.145224   20.293499   \n",
       "30     LUX   126.705742    17.373489   25.037831   71.185786   21.077746   \n",
       "31     LVA    22.256090    11.434815    7.961260   61.481802   12.873831   \n",
       "32     MEX   512.626775   388.929330  338.335082  271.361598  359.812420   \n",
       "33     NLD    17.914467    26.909929   14.620681   79.636990   79.290232   \n",
       "34     NOR    43.411446    61.371389   56.950481   24.085172   19.787608   \n",
       "35     NZL   214.108869    34.133590   52.558945   78.015153  103.114545   \n",
       "36     POL    47.200089    27.632566   31.352623   69.987110  112.828204   \n",
       "37     PRT   117.130137    45.030910   32.819800  196.004180   53.362958   \n",
       "38     ROU    66.419311    79.517051   81.236531  157.715612  131.350943   \n",
       "39     RUS    89.138119    87.484680   47.437789   37.942264    9.600176   \n",
       "40     SVK    20.916951    21.032175   41.256198   38.951925   12.055860   \n",
       "41     SVN    45.299032    38.286397   43.858229  114.217588   31.262224   \n",
       "42     SWE    34.797068     9.679910   10.652818   43.937905   26.167495   \n",
       "43     TUR    92.257211   145.902566  252.915074   85.318125   52.122359   \n",
       "44     USA    10.932331    15.499071   14.478532   92.069330   26.133360   \n",
       "45     ZAF    97.915389   154.364518  196.630535  182.314416  392.058903   \n",
       "\n",
       "      AutoARIMA  \n",
       "0    374.427430  \n",
       "1     77.573998  \n",
       "2    308.876717  \n",
       "3    247.458143  \n",
       "4     13.262487  \n",
       "5    112.173131  \n",
       "6     78.524191  \n",
       "7     44.695713  \n",
       "8    457.924752  \n",
       "9    371.855150  \n",
       "10   351.403075  \n",
       "11    31.429905  \n",
       "12    43.371377  \n",
       "13    26.785981  \n",
       "14   682.210937  \n",
       "15     7.911536  \n",
       "16     6.929203  \n",
       "17   374.980467  \n",
       "18   594.161511  \n",
       "19   472.731581  \n",
       "20    81.482711  \n",
       "21   918.419996  \n",
       "22  2537.341822  \n",
       "23    27.851448  \n",
       "24    94.172640  \n",
       "25    98.250206  \n",
       "26   406.266330  \n",
       "27    52.342391  \n",
       "28    13.822261  \n",
       "29    33.618548  \n",
       "30    25.779411  \n",
       "31    64.669962  \n",
       "32   354.229615  \n",
       "33   120.274654  \n",
       "34    12.533998  \n",
       "35   112.215087  \n",
       "36    36.576833  \n",
       "37   428.068202  \n",
       "38   184.075921  \n",
       "39    18.964628  \n",
       "40    21.345497  \n",
       "41    39.431903  \n",
       "42     9.011892  \n",
       "43    29.231676  \n",
       "44    50.173568  \n",
       "45  1084.726237  "
      ]
     },
     "execution_count": 37,
     "metadata": {},
     "output_type": "execute_result"
    }
   ],
   "source": [
    "res"
   ]
  },
  {
   "cell_type": "code",
   "execution_count": 38,
   "id": "j9f6SJg52oHn",
   "metadata": {
    "colab": {
     "base_uri": "https://localhost:8080/",
     "height": 300
    },
    "id": "j9f6SJg52oHn",
    "outputId": "ca72fe11-2667-4374-c4cd-929f887d53ca"
   },
   "outputs": [
    {
     "data": {
      "text/html": [
       "\n",
       "  <div id=\"df-d4c758a5-b9f2-4b7a-b67b-9f457bb5abe5\">\n",
       "    <div class=\"colab-df-container\">\n",
       "      <div>\n",
       "<style scoped>\n",
       "    .dataframe tbody tr th:only-of-type {\n",
       "        vertical-align: middle;\n",
       "    }\n",
       "\n",
       "    .dataframe tbody tr th {\n",
       "        vertical-align: top;\n",
       "    }\n",
       "\n",
       "    .dataframe thead th {\n",
       "        text-align: right;\n",
       "    }\n",
       "</style>\n",
       "<table border=\"1\" class=\"dataframe\">\n",
       "  <thead>\n",
       "    <tr style=\"text-align: right;\">\n",
       "      <th></th>\n",
       "      <th>DLT_full_sp</th>\n",
       "      <th>DLT_corr_sp</th>\n",
       "      <th>DLT_corr</th>\n",
       "      <th>ExpSmooth</th>\n",
       "      <th>ARIMA</th>\n",
       "      <th>AutoARIMA</th>\n",
       "    </tr>\n",
       "  </thead>\n",
       "  <tbody>\n",
       "    <tr>\n",
       "      <th>count</th>\n",
       "      <td>46.000000</td>\n",
       "      <td>46.000000</td>\n",
       "      <td>46.000000</td>\n",
       "      <td>46.000000</td>\n",
       "      <td>46.000000</td>\n",
       "      <td>46.000000</td>\n",
       "    </tr>\n",
       "    <tr>\n",
       "      <th>mean</th>\n",
       "      <td>159.690581</td>\n",
       "      <td>118.204057</td>\n",
       "      <td>137.526075</td>\n",
       "      <td>140.520241</td>\n",
       "      <td>144.854535</td>\n",
       "      <td>250.729668</td>\n",
       "    </tr>\n",
       "    <tr>\n",
       "      <th>std</th>\n",
       "      <td>170.801311</td>\n",
       "      <td>133.213020</td>\n",
       "      <td>198.974087</td>\n",
       "      <td>118.391871</td>\n",
       "      <td>194.070268</td>\n",
       "      <td>424.911893</td>\n",
       "    </tr>\n",
       "    <tr>\n",
       "      <th>min</th>\n",
       "      <td>2.294285</td>\n",
       "      <td>4.238172</td>\n",
       "      <td>5.277793</td>\n",
       "      <td>22.228503</td>\n",
       "      <td>4.911946</td>\n",
       "      <td>6.929203</td>\n",
       "    </tr>\n",
       "    <tr>\n",
       "      <th>25%</th>\n",
       "      <td>43.492646</td>\n",
       "      <td>27.090588</td>\n",
       "      <td>23.460754</td>\n",
       "      <td>57.735612</td>\n",
       "      <td>26.141894</td>\n",
       "      <td>29.781233</td>\n",
       "    </tr>\n",
       "    <tr>\n",
       "      <th>50%</th>\n",
       "      <td>94.782367</td>\n",
       "      <td>63.913834</td>\n",
       "      <td>53.584106</td>\n",
       "      <td>89.911734</td>\n",
       "      <td>57.605784</td>\n",
       "      <td>80.003451</td>\n",
       "    </tr>\n",
       "    <tr>\n",
       "      <th>75%</th>\n",
       "      <td>208.123913</td>\n",
       "      <td>141.473586</td>\n",
       "      <td>177.548079</td>\n",
       "      <td>192.581739</td>\n",
       "      <td>152.249161</td>\n",
       "      <td>367.448766</td>\n",
       "    </tr>\n",
       "    <tr>\n",
       "      <th>max</th>\n",
       "      <td>636.460584</td>\n",
       "      <td>459.180058</td>\n",
       "      <td>955.985894</td>\n",
       "      <td>489.000782</td>\n",
       "      <td>797.729490</td>\n",
       "      <td>2537.341822</td>\n",
       "    </tr>\n",
       "  </tbody>\n",
       "</table>\n",
       "</div>\n",
       "      <button class=\"colab-df-convert\" onclick=\"convertToInteractive('df-d4c758a5-b9f2-4b7a-b67b-9f457bb5abe5')\"\n",
       "              title=\"Convert this dataframe to an interactive table.\"\n",
       "              style=\"display:none;\">\n",
       "        \n",
       "  <svg xmlns=\"http://www.w3.org/2000/svg\" height=\"24px\"viewBox=\"0 0 24 24\"\n",
       "       width=\"24px\">\n",
       "    <path d=\"M0 0h24v24H0V0z\" fill=\"none\"/>\n",
       "    <path d=\"M18.56 5.44l.94 2.06.94-2.06 2.06-.94-2.06-.94-.94-2.06-.94 2.06-2.06.94zm-11 1L8.5 8.5l.94-2.06 2.06-.94-2.06-.94L8.5 2.5l-.94 2.06-2.06.94zm10 10l.94 2.06.94-2.06 2.06-.94-2.06-.94-.94-2.06-.94 2.06-2.06.94z\"/><path d=\"M17.41 7.96l-1.37-1.37c-.4-.4-.92-.59-1.43-.59-.52 0-1.04.2-1.43.59L10.3 9.45l-7.72 7.72c-.78.78-.78 2.05 0 2.83L4 21.41c.39.39.9.59 1.41.59.51 0 1.02-.2 1.41-.59l7.78-7.78 2.81-2.81c.8-.78.8-2.07 0-2.86zM5.41 20L4 18.59l7.72-7.72 1.47 1.35L5.41 20z\"/>\n",
       "  </svg>\n",
       "      </button>\n",
       "      \n",
       "  <style>\n",
       "    .colab-df-container {\n",
       "      display:flex;\n",
       "      flex-wrap:wrap;\n",
       "      gap: 12px;\n",
       "    }\n",
       "\n",
       "    .colab-df-convert {\n",
       "      background-color: #E8F0FE;\n",
       "      border: none;\n",
       "      border-radius: 50%;\n",
       "      cursor: pointer;\n",
       "      display: none;\n",
       "      fill: #1967D2;\n",
       "      height: 32px;\n",
       "      padding: 0 0 0 0;\n",
       "      width: 32px;\n",
       "    }\n",
       "\n",
       "    .colab-df-convert:hover {\n",
       "      background-color: #E2EBFA;\n",
       "      box-shadow: 0px 1px 2px rgba(60, 64, 67, 0.3), 0px 1px 3px 1px rgba(60, 64, 67, 0.15);\n",
       "      fill: #174EA6;\n",
       "    }\n",
       "\n",
       "    [theme=dark] .colab-df-convert {\n",
       "      background-color: #3B4455;\n",
       "      fill: #D2E3FC;\n",
       "    }\n",
       "\n",
       "    [theme=dark] .colab-df-convert:hover {\n",
       "      background-color: #434B5C;\n",
       "      box-shadow: 0px 1px 3px 1px rgba(0, 0, 0, 0.15);\n",
       "      filter: drop-shadow(0px 1px 2px rgba(0, 0, 0, 0.3));\n",
       "      fill: #FFFFFF;\n",
       "    }\n",
       "  </style>\n",
       "\n",
       "      <script>\n",
       "        const buttonEl =\n",
       "          document.querySelector('#df-d4c758a5-b9f2-4b7a-b67b-9f457bb5abe5 button.colab-df-convert');\n",
       "        buttonEl.style.display =\n",
       "          google.colab.kernel.accessAllowed ? 'block' : 'none';\n",
       "\n",
       "        async function convertToInteractive(key) {\n",
       "          const element = document.querySelector('#df-d4c758a5-b9f2-4b7a-b67b-9f457bb5abe5');\n",
       "          const dataTable =\n",
       "            await google.colab.kernel.invokeFunction('convertToInteractive',\n",
       "                                                     [key], {});\n",
       "          if (!dataTable) return;\n",
       "\n",
       "          const docLinkHtml = 'Like what you see? Visit the ' +\n",
       "            '<a target=\"_blank\" href=https://colab.research.google.com/notebooks/data_table.ipynb>data table notebook</a>'\n",
       "            + ' to learn more about interactive tables.';\n",
       "          element.innerHTML = '';\n",
       "          dataTable['output_type'] = 'display_data';\n",
       "          await google.colab.output.renderOutput(dataTable, element);\n",
       "          const docLink = document.createElement('div');\n",
       "          docLink.innerHTML = docLinkHtml;\n",
       "          element.appendChild(docLink);\n",
       "        }\n",
       "      </script>\n",
       "    </div>\n",
       "  </div>\n",
       "  "
      ],
      "text/plain": [
       "       DLT_full_sp  DLT_corr_sp    DLT_corr   ExpSmooth       ARIMA  \\\n",
       "count    46.000000    46.000000   46.000000   46.000000   46.000000   \n",
       "mean    159.690581   118.204057  137.526075  140.520241  144.854535   \n",
       "std     170.801311   133.213020  198.974087  118.391871  194.070268   \n",
       "min       2.294285     4.238172    5.277793   22.228503    4.911946   \n",
       "25%      43.492646    27.090588   23.460754   57.735612   26.141894   \n",
       "50%      94.782367    63.913834   53.584106   89.911734   57.605784   \n",
       "75%     208.123913   141.473586  177.548079  192.581739  152.249161   \n",
       "max     636.460584   459.180058  955.985894  489.000782  797.729490   \n",
       "\n",
       "         AutoARIMA  \n",
       "count    46.000000  \n",
       "mean    250.729668  \n",
       "std     424.911893  \n",
       "min       6.929203  \n",
       "25%      29.781233  \n",
       "50%      80.003451  \n",
       "75%     367.448766  \n",
       "max    2537.341822  "
      ]
     },
     "execution_count": 38,
     "metadata": {},
     "output_type": "execute_result"
    }
   ],
   "source": [
    "res.describe()"
   ]
  },
  {
   "cell_type": "markdown",
   "id": "lqzAWrI-22uQ",
   "metadata": {
    "id": "lqzAWrI-22uQ"
   },
   "source": [
    "Как видим, среднее MSE достаточно большое. Это может быть связано с тем, что такие модели по большей части ищут линейные закономерности и это не позволяет им быть сопоставимыми с бустингами и различными нейронными сетями."
   ]
  },
  {
   "cell_type": "markdown",
   "id": "ARxAz1OUg2fO",
   "metadata": {
    "id": "ARxAz1OUg2fO"
   },
   "source": [
    "### Boosting"
   ]
  },
  {
   "cell_type": "code",
   "execution_count": 48,
   "id": "akn4xtBsg2fO",
   "metadata": {
    "id": "akn4xtBsg2fO"
   },
   "outputs": [],
   "source": [
    "from xgboost.sklearn import XGBRegressor"
   ]
  },
  {
   "cell_type": "markdown",
   "id": "XR-slWBFg2fP",
   "metadata": {
    "id": "XR-slWBFg2fP"
   },
   "source": [
    "train: 53 quartals\\\n",
    "val:  26 weeks, 20 weeks (Russia)\\\n",
    "test: 26 weeks, 19 weeks (Russia)"
   ]
  },
  {
   "cell_type": "code",
   "execution_count": 50,
   "id": "VRNSR3qlg2fP",
   "metadata": {
    "id": "VRNSR3qlg2fP",
    "scrolled": false
   },
   "outputs": [
    {
     "name": "stdout",
     "output_type": "stream",
     "text": [
      "XGB MSE: 39.105, params: (3, 50, 0.1)\n",
      "XGB MSE: 40.323, params: (3, 50, 0.01)\n",
      "XGB MSE: 42.163, params: (3, 50, 0.001)\n",
      "XGB MSE: 37.098, params: (3, 70, 0.1)\n",
      "XGB MSE: 39.232, params: (3, 70, 0.01)\n",
      "XGB MSE: 42.356, params: (3, 70, 0.001)\n",
      "XGB MSE: 44.727, params: (3, 150, 0.1)\n",
      "XGB MSE: 38.134, params: (3, 150, 0.01)\n",
      "XGB MSE: 42.216, params: (3, 150, 0.001)\n",
      "XGB MSE: 48.367, params: (3, 200, 0.1)\n",
      "XGB MSE: 37.221, params: (3, 200, 0.01)\n",
      "XGB MSE: 41.852, params: (3, 200, 0.001)\n",
      "XGB MSE: 45.762, params: (4, 50, 0.1)\n",
      "XGB MSE: 41.683, params: (4, 50, 0.01)\n",
      "XGB MSE: 42.456, params: (4, 50, 0.001)\n",
      "XGB MSE: 54.066, params: (4, 70, 0.1)\n",
      "XGB MSE: 40.062, params: (4, 70, 0.01)\n",
      "XGB MSE: 42.742, params: (4, 70, 0.001)\n",
      "XGB MSE: 75.856, params: (4, 150, 0.1)\n",
      "XGB MSE: 41.885, params: (4, 150, 0.01)\n",
      "XGB MSE: 43.055, params: (4, 150, 0.001)\n",
      "XGB MSE: 77.361, params: (4, 200, 0.1)\n",
      "XGB MSE: 41.245, params: (4, 200, 0.01)\n",
      "XGB MSE: 42.766, params: (4, 200, 0.001)\n",
      "XGB MSE: 41.789, params: (5, 50, 0.1)\n",
      "XGB MSE: 39.774, params: (5, 50, 0.01)\n",
      "XGB MSE: 41.862, params: (5, 50, 0.001)\n",
      "XGB MSE: 44.944, params: (5, 70, 0.1)\n",
      "XGB MSE: 39.015, params: (5, 70, 0.01)\n",
      "XGB MSE: 41.949, params: (5, 70, 0.001)\n",
      "XGB MSE: 57.361, params: (5, 150, 0.1)\n",
      "XGB MSE: 39.079, params: (5, 150, 0.01)\n",
      "XGB MSE: 42.282, params: (5, 150, 0.001)\n",
      "XGB MSE: 61.464, params: (5, 200, 0.1)\n",
      "XGB MSE: 42.604, params: (5, 200, 0.01)\n",
      "XGB MSE: 42.378, params: (5, 200, 0.001)\n"
     ]
    }
   ],
   "source": [
    "for m in [3, 4, 5]:\n",
    "    for n in [50, 70, 150, 200]:\n",
    "        for lr in [0.1, 0.01, 0.001]:\n",
    "            xgb = XGBRegressor(max_depth=m, n_estimators=n, learning_rate=lr, verbosity = 0)\n",
    "            xgb.fit(X_train, y_train)\n",
    "            \n",
    "            y_pred = xgb.predict(X_val)\n",
    "            print(f\"XGB MSE: {mse(y_val, y_pred):.3f}, params: {(m, n, lr)}\")"
   ]
  },
  {
   "cell_type": "code",
   "execution_count": 61,
   "id": "vBzqDFKmg2fP",
   "metadata": {
    "id": "vBzqDFKmg2fP",
    "outputId": "0606db49-812a-446d-8698-5f5c4c4b27d7",
    "scrolled": true
   },
   "outputs": [
    {
     "name": "stdout",
     "output_type": "stream",
     "text": [
      "Best params: max_depth = 3, n_estimators = 150, lr = 0.01\n"
     ]
    }
   ],
   "source": [
    "m, n, lr = (3, 150, 0.01)\n",
    "print(f'Best params: max_depth = {m}, n_estimators = {n}, lr = {lr}')"
   ]
  },
  {
   "cell_type": "code",
   "execution_count": 84,
   "id": "3ae1c239",
   "metadata": {},
   "outputs": [],
   "source": [
    "xgb = XGBRegressor(max_depth=m, n_estimators=n, learning_rate=lr, verbosity=0)\n",
    "xgb.fit(X_train, y_train)\n",
    "\n",
    "y_pred_best = xgb.predict(data_week_final)"
   ]
  },
  {
   "cell_type": "code",
   "execution_count": 85,
   "id": "b1a63eb3",
   "metadata": {},
   "outputs": [
    {
     "name": "stdout",
     "output_type": "stream",
     "text": [
      "Best MSE on val and test: 48.069662811961244\n"
     ]
    }
   ],
   "source": [
    "print('Best MSE on val and test: {}'.format(mse(gdp_test_final['value'], y_pred)))"
   ]
  },
  {
   "cell_type": "code",
   "execution_count": 92,
   "id": "18d52424",
   "metadata": {},
   "outputs": [],
   "source": [
    "mses = []\n",
    "for i in X_val.columns[-46:]:\n",
    "    ind_pred = y_pred_best[np.array(data_week_final[i] == 1)]\n",
    "    ind_data = np.array(gdp_test_final[gdp_test_final[f'location_{i[-3:]}'] == 1]['value'])\n",
    "    mses.append((mse(ind_data, ind_pred), i))"
   ]
  },
  {
   "cell_type": "code",
   "execution_count": 106,
   "id": "7007f7ae",
   "metadata": {},
   "outputs": [
    {
     "data": {
      "text/plain": [
       "[(5.835118200660435, 'COUNTRY_JPN'),\n",
       " (10.655662000834822, 'COUNTRY_NOR'),\n",
       " (11.187482029201012, 'COUNTRY_KOR'),\n",
       " (11.248716438512114, 'COUNTRY_RUS'),\n",
       " (11.482626479171293, 'COUNTRY_IDN'),\n",
       " (13.15094931471759, 'COUNTRY_SVK'),\n",
       " (15.622097370439832, 'COUNTRY_FIN'),\n",
       " (15.845200884555116, 'COUNTRY_CHE'),\n",
       " (16.75683312935763, 'COUNTRY_CZE'),\n",
       " (18.41235648538973, 'COUNTRY_BGR'),\n",
       " (19.232200039637288, 'COUNTRY_LTU')]"
      ]
     },
     "execution_count": 106,
     "metadata": {},
     "output_type": "execute_result"
    }
   ],
   "source": [
    "best_mses = sorted(mses)[:11]\n",
    "best_mses"
   ]
  },
  {
   "cell_type": "code",
   "execution_count": 107,
   "id": "9e61b373",
   "metadata": {
    "scrolled": true
   },
   "outputs": [],
   "source": [
    "best_mses.remove((11.248716438512114, 'COUNTRY_RUS'))"
   ]
  },
  {
   "cell_type": "markdown",
   "id": "a198a775",
   "metadata": {},
   "source": [
    "График для 10 лучших стран по MSE:"
   ]
  },
  {
   "cell_type": "code",
   "execution_count": 119,
   "id": "uwZ4JjD0g2fQ",
   "metadata": {
    "id": "uwZ4JjD0g2fQ",
    "outputId": "e5e6ae7c-dc94-4725-b1bc-e0b827fc8d28",
    "scrolled": false
   },
   "outputs": [
    {
     "data": {
      "image/png": "[encoded data removed]",
      "text/plain": [
       "<Figure size 1440x1440 with 10 Axes>"
      ]
     },
     "metadata": {
      "needs_background": "light"
     },
     "output_type": "display_data"
    }
   ],
   "source": [
    "fig, axs = plt.subplots(5, 2, sharex=True, figsize=(20, 20))\n",
    "date_index = pd.date_range('2021-01-03', periods=52, freq='W') \n",
    "\n",
    "for ticker, ax in zip(best_mses, axs.reshape(-1)):\n",
    "    ind_pred = y_pred_best[np.array(gdp_test_final[f'location_{ticker[1][-3:]}'] == 1)]\n",
    "    ind_data = np.array(gdp_test_final[gdp_test_final[f'location_{ticker[1][-3:]}'] == 1]['value'])\n",
    "    \n",
    "    ax.plot(date_index, ind_pred, label='pred')\n",
    "    ax.plot(date_index, ind_data, label='val and test')\n",
    "    \n",
    "    ax.legend()\n",
    "    ax.set_title(f'{ticker[1][-3:]}',fontsize = 20)\n",
    "    ax.set_ylabel('GDP Growth')"
   ]
  },
  {
   "cell_type": "markdown",
   "id": "e2f9c6bf",
   "metadata": {},
   "source": [
    "График для России:"
   ]
  },
  {
   "cell_type": "code",
   "execution_count": 117,
   "id": "9aB_ybgMg2fQ",
   "metadata": {
    "id": "9aB_ybgMg2fQ",
    "scrolled": false
   },
   "outputs": [
    {
     "data": {
      "image/png": "[encoded data removed]",
      "text/plain": [
       "<Figure size 720x360 with 1 Axes>"
      ]
     },
     "metadata": {
      "needs_background": "light"
     },
     "output_type": "display_data"
    }
   ],
   "source": [
    "plt.figure(figsize=(10, 5))\n",
    "date_index = pd.date_range('2021-01-03', periods=39, freq='W') \n",
    "\n",
    "ind_pred = y_pred_best[np.array(gdp_test_final[f'location_RUS'] == 1)]\n",
    "ind_data = np.array(gdp_test_final[gdp_test_final[f'location_RUS'] == 1]['value'])\n",
    "\n",
    "plt.plot(date_index, ind_pred, label='pred')\n",
    "plt.plot(date_index, ind_data, label='val and test')\n",
    "\n",
    "plt.legend()\n",
    "plt.title(f'Russia',fontsize = 15)\n",
    "plt.ylabel('GDP Growth');"
   ]
  },
  {
   "cell_type": "code",
   "execution_count": null,
   "id": "4k7lIUIMg2fQ",
   "metadata": {
    "id": "4k7lIUIMg2fQ"
   },
   "outputs": [],
   "source": []
  },
  {
   "cell_type": "code",
   "execution_count": null,
   "id": "2Fselon2g2fR",
   "metadata": {
    "id": "2Fselon2g2fR"
   },
   "outputs": [],
   "source": []
  },
  {
   "cell_type": "code",
   "execution_count": null,
   "id": "NYl0KSqJg2fR",
   "metadata": {
    "id": "NYl0KSqJg2fR"
   },
   "outputs": [],
   "source": []
  },
  {
   "cell_type": "markdown",
   "id": "1M_DyDfjg2fR",
   "metadata": {
    "id": "1M_DyDfjg2fR"
   },
   "source": [
    "# MLP Regressor - Base model\n",
    "Полносвязная нейронная сеть, обучаемая на квартальных данных. Гиперпараметры подбираются на валидационной выборке. Для контроля качества на валидации используются две метрики: MSE, а также среднее гармоническое средних ошибок 20 стран с наименьшим MSE и общей ошибки(MSE на всех странах)"
   ]
  },
  {
   "cell_type": "code",
   "execution_count": 23,
   "id": "bJCAqObig2fR",
   "metadata": {
    "id": "bJCAqObig2fR"
   },
   "outputs": [],
   "source": [
    "from sklearn.neural_network import MLPRegressor"
   ]
  },
  {
   "cell_type": "code",
   "execution_count": 24,
   "id": "1954481c",
   "metadata": {},
   "outputs": [],
   "source": [
    "def train_all(X_train, y_train, X_val, size, lr, iters=6):\n",
    "    preds_tot = np.zeros(X_val.shape[0])  # предсказания для всех стран\n",
    "    \n",
    "    # запускаем несколько раз для стабильности, выходы усредняем\n",
    "    for i in range(iters):\n",
    "        network = MLPRegressor(hidden_layer_sizes=size,\n",
    "                               solver=\"adam\",\n",
    "                               activation=\"relu\",\n",
    "                               learning_rate_init=lr, \n",
    "                               tol=1e-4,\n",
    "                               max_iter=7000,\n",
    "                               early_stopping=True,\n",
    "                               random_state=i)\n",
    "        network.fit(X_train, y_train)\n",
    "        \n",
    "        # предсказания для всех стран\n",
    "        preds_tot += np.array(network.predict(X_val))\n",
    "        \n",
    "    preds_tot /= iters\n",
    "    return preds_tot"
   ]
  },
  {
   "cell_type": "code",
   "execution_count": 25,
   "id": "6c6de74d",
   "metadata": {},
   "outputs": [],
   "source": [
    "hidden_sizes = [(100, 10), (100, 15), (110, 10), (110, 15), (120, 10), (120, 15), (140, 10), (150, 10), \n",
    "                (160, 10), (170, 10), (200, 10), (140, 20), (150, 20), (160, 20), (170, 20), (200, 20),\n",
    "                (230, 10), (250, 10), (270, 10), (300, 10)]\n",
    "\n",
    "learning_rates = [0.0005, 0.0007, 0.001, 0.0015, 0.002, 0.0025, 0.003, 0.004, 0.005]"
   ]
  },
  {
   "cell_type": "markdown",
   "id": "c995072e",
   "metadata": {},
   "source": [
    "**Подбор параметров нейронной сети** \\\n",
    "Для подбора гиперпараметров используется метрика следующего вида: H(mean_20, mse), где H - гармоническое среднее, mean_20 - среднее mse для 20 стран с наименьшими mse на валидационной выборке, mse - общее MSE для всех стран. Такая метрика используется для того, чтобы уделить особое внимание странам, на которых мы ошибаемся меньше всего. Так как мы предполагаем, что среди рассматриваемых стран будут такие, на которых наша модель не будет показывать удовлетворительные результаты, а то есть использовать построенный индикатор нельзя, лучше будет сосредоточиться хотя бы на 20 самых успешных с точки зрения MSE. В данном случае число стран с наименьшей ошибкой - тоже своего рода гиперпараметр. Мы решили остановиться именно на 20"
   ]
  },
  {
   "cell_type": "code",
   "execution_count": null,
   "id": "290783d2",
   "metadata": {
    "scrolled": false
   },
   "outputs": [],
   "source": [
    "print('MSE Total\\t Harm mean\\t size\\t\\t lr')\n",
    "for size in hidden_sizes:\n",
    "    for lr in learning_rates:\n",
    "        preds_tot = train_all(X_train, y_train, X_val, \n",
    "                              size, lr, iters=6)\n",
    "        preds_df = X_val.iloc[:, -46:]\n",
    "        preds_df['Prediction'] = preds_tot\n",
    "        \n",
    "        mask_rus = (preds_df['COUNTRY_RUS'] == 1)\n",
    "        preds = preds_df[~mask_rus]['Prediction']    # массив предсказаний для стран, кроме РФ\n",
    "        preds_rus = preds_df[mask_rus]['Prediction'] # массив предсказаний для РФ\n",
    "        \n",
    "        losses = []\n",
    "        for country in X_val.columns[-46:]:\n",
    "            country_mask = (preds_df[country] == 1)\n",
    "\n",
    "            pred_i = preds_df[country_mask]['Prediction'].values\n",
    "            y_val_i = y_val.values[country_mask]\n",
    "\n",
    "            losses.append(np.mean((y_val_i - pred_i) ** 2))\n",
    "        losses = np.array(losses)\n",
    "        \n",
    "        # Считаем общий MSE\n",
    "        mse_tot = np.mean((preds_tot - y_val) ** 2)\n",
    "        \n",
    "        # Считаем среднее гармоническое между MSE и MSE_top20\n",
    "        mse_top20 = np.mean(losses[losses <= np.quantile(losses, 20/46)])\n",
    "        harm_mean = scipy.stats.hmean([mse_top20, mse_tot])\n",
    "        \n",
    "        print(f'{np.round(mse_tot, 5)}\\t {np.round(harm_mean, 5)}\\t {size}\\t {lr}')"
   ]
  },
  {
   "cell_type": "code",
   "execution_count": 149,
   "id": "d5964c09",
   "metadata": {},
   "outputs": [
    {
     "name": "stdout",
     "output_type": "stream",
     "text": [
      "Best params: size = (110, 15), lr = 0.002\n"
     ]
    }
   ],
   "source": [
    "print('Best params: size = (110, 15), lr = 0.002')"
   ]
  },
  {
   "cell_type": "code",
   "execution_count": null,
   "id": "4d4cddce",
   "metadata": {},
   "outputs": [],
   "source": [
    "preds_tot = train_all(X_train, y_train, X_val, \n",
    "                      size, lr, iters=6)\n",
    "preds_df = X_val.iloc[:, -46:]\n",
    "preds_df['Prediction'] = preds_tot\n",
    "\n",
    "mask_rus = (preds_df['COUNTRY_RUS'] == 1)\n",
    "preds = preds_df[~mask_rus]['Prediction']    # массив предсказаний для стран, кроме РФ\n",
    "preds_rus = preds_df[mask_rus]['Prediction'] # массив предсказаний для РФ\n"
   ]
  },
  {
   "cell_type": "markdown",
   "id": "yLMS6_4Og2fR",
   "metadata": {
    "id": "yLMS6_4Og2fR"
   },
   "source": [
    "#### Обучение лучшей модели"
   ]
  },
  {
   "cell_type": "code",
   "execution_count": 150,
   "id": "DHR7R_jgg2fS",
   "metadata": {
    "id": "DHR7R_jgg2fS"
   },
   "outputs": [
    {
     "name": "stdout",
     "output_type": "stream",
     "text": [
      "Best MSE on val and test: 36.96428887429182\n"
     ]
    }
   ],
   "source": [
    "preds_ens = np.zeros(data_week_final.shape[0])\n",
    "for i in range(5):\n",
    "    network = MLPRegressor(hidden_layer_sizes=(110, 15),\n",
    "                           solver = \"adam\",\n",
    "                           activation = \"relu\",\n",
    "                           learning_rate_init = 0.002,\n",
    "                           tol=1e-4,\n",
    "                           max_iter=7000,\n",
    "                           early_stopping = True,\n",
    "                           random_state=i)\n",
    "    \n",
    "    network.fit(X_train, y_train)\n",
    "    preds_ens += network.predict(data_week_final)\n",
    "    \n",
    "best_mse = np.mean((gdp_test_final['value'] - preds_ens/5)**2)\n",
    "print(f'Best MSE on val and test: {best_mse}')"
   ]
  },
  {
   "cell_type": "code",
   "execution_count": 139,
   "id": "sBgZPmx-g2fS",
   "metadata": {
    "id": "sBgZPmx-g2fS"
   },
   "outputs": [],
   "source": [
    "mses = []\n",
    "for tick in X_val.columns[-46:]:\n",
    "    ind_pred = preds_ens[np.array(data_week_final[tick] == 1)] / 5\n",
    "    ind_data = np.array(gdp_test_final[gdp_test_final[f'location_{tick[-3:]}'] == 1]['value'])\n",
    "    mses.append([mse(ind_data, ind_pred), tick])"
   ]
  },
  {
   "cell_type": "code",
   "execution_count": 148,
   "id": "0706bcc3",
   "metadata": {
    "scrolled": false
   },
   "outputs": [
    {
     "data": {
      "text/html": [
       "<div>\n",
       "<style scoped>\n",
       "    .dataframe tbody tr th:only-of-type {\n",
       "        vertical-align: middle;\n",
       "    }\n",
       "\n",
       "    .dataframe tbody tr th {\n",
       "        vertical-align: top;\n",
       "    }\n",
       "\n",
       "    .dataframe thead th {\n",
       "        text-align: right;\n",
       "    }\n",
       "</style>\n",
       "<table border=\"1\" class=\"dataframe\">\n",
       "  <thead>\n",
       "    <tr style=\"text-align: right;\">\n",
       "      <th></th>\n",
       "      <th>Country</th>\n",
       "      <th>MSE</th>\n",
       "    </tr>\n",
       "  </thead>\n",
       "  <tbody>\n",
       "    <tr>\n",
       "      <th>0</th>\n",
       "      <td>COUNTRY_NOR</td>\n",
       "      <td>3.502421</td>\n",
       "    </tr>\n",
       "    <tr>\n",
       "      <th>1</th>\n",
       "      <td>COUNTRY_FIN</td>\n",
       "      <td>5.895561</td>\n",
       "    </tr>\n",
       "    <tr>\n",
       "      <th>2</th>\n",
       "      <td>COUNTRY_DNK</td>\n",
       "      <td>6.074840</td>\n",
       "    </tr>\n",
       "    <tr>\n",
       "      <th>3</th>\n",
       "      <td>COUNTRY_SWE</td>\n",
       "      <td>6.453898</td>\n",
       "    </tr>\n",
       "    <tr>\n",
       "      <th>4</th>\n",
       "      <td>COUNTRY_BGR</td>\n",
       "      <td>6.607468</td>\n",
       "    </tr>\n",
       "    <tr>\n",
       "      <th>5</th>\n",
       "      <td>COUNTRY_CZE</td>\n",
       "      <td>7.930812</td>\n",
       "    </tr>\n",
       "    <tr>\n",
       "      <th>6</th>\n",
       "      <td>COUNTRY_LVA</td>\n",
       "      <td>8.517893</td>\n",
       "    </tr>\n",
       "    <tr>\n",
       "      <th>7</th>\n",
       "      <td>COUNTRY_AUS</td>\n",
       "      <td>8.860309</td>\n",
       "    </tr>\n",
       "    <tr>\n",
       "      <th>8</th>\n",
       "      <td>COUNTRY_POL</td>\n",
       "      <td>9.756655</td>\n",
       "    </tr>\n",
       "    <tr>\n",
       "      <th>9</th>\n",
       "      <td>COUNTRY_DEU</td>\n",
       "      <td>11.444325</td>\n",
       "    </tr>\n",
       "    <tr>\n",
       "      <th>10</th>\n",
       "      <td>COUNTRY_KOR</td>\n",
       "      <td>12.797392</td>\n",
       "    </tr>\n",
       "    <tr>\n",
       "      <th>11</th>\n",
       "      <td>COUNTRY_EST</td>\n",
       "      <td>13.236874</td>\n",
       "    </tr>\n",
       "    <tr>\n",
       "      <th>12</th>\n",
       "      <td>COUNTRY_JPN</td>\n",
       "      <td>13.705049</td>\n",
       "    </tr>\n",
       "    <tr>\n",
       "      <th>13</th>\n",
       "      <td>COUNTRY_RUS</td>\n",
       "      <td>13.720490</td>\n",
       "    </tr>\n",
       "    <tr>\n",
       "      <th>14</th>\n",
       "      <td>COUNTRY_SVN</td>\n",
       "      <td>14.589887</td>\n",
       "    </tr>\n",
       "    <tr>\n",
       "      <th>15</th>\n",
       "      <td>COUNTRY_CHE</td>\n",
       "      <td>14.880724</td>\n",
       "    </tr>\n",
       "    <tr>\n",
       "      <th>16</th>\n",
       "      <td>COUNTRY_CAN</td>\n",
       "      <td>15.073590</td>\n",
       "    </tr>\n",
       "    <tr>\n",
       "      <th>17</th>\n",
       "      <td>COUNTRY_SVK</td>\n",
       "      <td>15.742022</td>\n",
       "    </tr>\n",
       "    <tr>\n",
       "      <th>18</th>\n",
       "      <td>COUNTRY_ROU</td>\n",
       "      <td>18.957505</td>\n",
       "    </tr>\n",
       "    <tr>\n",
       "      <th>19</th>\n",
       "      <td>COUNTRY_USA</td>\n",
       "      <td>20.824735</td>\n",
       "    </tr>\n",
       "    <tr>\n",
       "      <th>20</th>\n",
       "      <td>COUNTRY_LTU</td>\n",
       "      <td>22.080011</td>\n",
       "    </tr>\n",
       "    <tr>\n",
       "      <th>21</th>\n",
       "      <td>COUNTRY_IDN</td>\n",
       "      <td>24.644889</td>\n",
       "    </tr>\n",
       "    <tr>\n",
       "      <th>22</th>\n",
       "      <td>COUNTRY_LUX</td>\n",
       "      <td>25.452206</td>\n",
       "    </tr>\n",
       "    <tr>\n",
       "      <th>23</th>\n",
       "      <td>COUNTRY_BRA</td>\n",
       "      <td>25.556350</td>\n",
       "    </tr>\n",
       "    <tr>\n",
       "      <th>24</th>\n",
       "      <td>COUNTRY_NZL</td>\n",
       "      <td>29.690474</td>\n",
       "    </tr>\n",
       "    <tr>\n",
       "      <th>25</th>\n",
       "      <td>COUNTRY_AUT</td>\n",
       "      <td>30.401777</td>\n",
       "    </tr>\n",
       "    <tr>\n",
       "      <th>26</th>\n",
       "      <td>COUNTRY_PRT</td>\n",
       "      <td>31.121358</td>\n",
       "    </tr>\n",
       "    <tr>\n",
       "      <th>27</th>\n",
       "      <td>COUNTRY_NLD</td>\n",
       "      <td>31.273698</td>\n",
       "    </tr>\n",
       "    <tr>\n",
       "      <th>28</th>\n",
       "      <td>COUNTRY_CRI</td>\n",
       "      <td>33.089352</td>\n",
       "    </tr>\n",
       "    <tr>\n",
       "      <th>29</th>\n",
       "      <td>COUNTRY_ESP</td>\n",
       "      <td>36.152073</td>\n",
       "    </tr>\n",
       "    <tr>\n",
       "      <th>30</th>\n",
       "      <td>COUNTRY_ZAF</td>\n",
       "      <td>37.031762</td>\n",
       "    </tr>\n",
       "    <tr>\n",
       "      <th>31</th>\n",
       "      <td>COUNTRY_BEL</td>\n",
       "      <td>38.525238</td>\n",
       "    </tr>\n",
       "    <tr>\n",
       "      <th>32</th>\n",
       "      <td>COUNTRY_ISL</td>\n",
       "      <td>39.597091</td>\n",
       "    </tr>\n",
       "    <tr>\n",
       "      <th>33</th>\n",
       "      <td>COUNTRY_ISR</td>\n",
       "      <td>46.851432</td>\n",
       "    </tr>\n",
       "    <tr>\n",
       "      <th>34</th>\n",
       "      <td>COUNTRY_IND</td>\n",
       "      <td>47.833860</td>\n",
       "    </tr>\n",
       "    <tr>\n",
       "      <th>35</th>\n",
       "      <td>COUNTRY_HUN</td>\n",
       "      <td>57.255362</td>\n",
       "    </tr>\n",
       "    <tr>\n",
       "      <th>36</th>\n",
       "      <td>COUNTRY_ITA</td>\n",
       "      <td>65.309526</td>\n",
       "    </tr>\n",
       "    <tr>\n",
       "      <th>37</th>\n",
       "      <td>COUNTRY_COL</td>\n",
       "      <td>65.518668</td>\n",
       "    </tr>\n",
       "    <tr>\n",
       "      <th>38</th>\n",
       "      <td>COUNTRY_FRA</td>\n",
       "      <td>65.929850</td>\n",
       "    </tr>\n",
       "    <tr>\n",
       "      <th>39</th>\n",
       "      <td>COUNTRY_MEX</td>\n",
       "      <td>66.606321</td>\n",
       "    </tr>\n",
       "    <tr>\n",
       "      <th>40</th>\n",
       "      <td>COUNTRY_IRL</td>\n",
       "      <td>81.179324</td>\n",
       "    </tr>\n",
       "    <tr>\n",
       "      <th>41</th>\n",
       "      <td>COUNTRY_TUR</td>\n",
       "      <td>84.494752</td>\n",
       "    </tr>\n",
       "    <tr>\n",
       "      <th>42</th>\n",
       "      <td>COUNTRY_CHL</td>\n",
       "      <td>97.434455</td>\n",
       "    </tr>\n",
       "    <tr>\n",
       "      <th>43</th>\n",
       "      <td>COUNTRY_ARG</td>\n",
       "      <td>114.514590</td>\n",
       "    </tr>\n",
       "    <tr>\n",
       "      <th>44</th>\n",
       "      <td>COUNTRY_GBR</td>\n",
       "      <td>130.819780</td>\n",
       "    </tr>\n",
       "    <tr>\n",
       "      <th>45</th>\n",
       "      <td>COUNTRY_GRC</td>\n",
       "      <td>137.609689</td>\n",
       "    </tr>\n",
       "  </tbody>\n",
       "</table>\n",
       "</div>"
      ],
      "text/plain": [
       "        Country         MSE\n",
       "0   COUNTRY_NOR    3.502421\n",
       "1   COUNTRY_FIN    5.895561\n",
       "2   COUNTRY_DNK    6.074840\n",
       "3   COUNTRY_SWE    6.453898\n",
       "4   COUNTRY_BGR    6.607468\n",
       "5   COUNTRY_CZE    7.930812\n",
       "6   COUNTRY_LVA    8.517893\n",
       "7   COUNTRY_AUS    8.860309\n",
       "8   COUNTRY_POL    9.756655\n",
       "9   COUNTRY_DEU   11.444325\n",
       "10  COUNTRY_KOR   12.797392\n",
       "11  COUNTRY_EST   13.236874\n",
       "12  COUNTRY_JPN   13.705049\n",
       "13  COUNTRY_RUS   13.720490\n",
       "14  COUNTRY_SVN   14.589887\n",
       "15  COUNTRY_CHE   14.880724\n",
       "16  COUNTRY_CAN   15.073590\n",
       "17  COUNTRY_SVK   15.742022\n",
       "18  COUNTRY_ROU   18.957505\n",
       "19  COUNTRY_USA   20.824735\n",
       "20  COUNTRY_LTU   22.080011\n",
       "21  COUNTRY_IDN   24.644889\n",
       "22  COUNTRY_LUX   25.452206\n",
       "23  COUNTRY_BRA   25.556350\n",
       "24  COUNTRY_NZL   29.690474\n",
       "25  COUNTRY_AUT   30.401777\n",
       "26  COUNTRY_PRT   31.121358\n",
       "27  COUNTRY_NLD   31.273698\n",
       "28  COUNTRY_CRI   33.089352\n",
       "29  COUNTRY_ESP   36.152073\n",
       "30  COUNTRY_ZAF   37.031762\n",
       "31  COUNTRY_BEL   38.525238\n",
       "32  COUNTRY_ISL   39.597091\n",
       "33  COUNTRY_ISR   46.851432\n",
       "34  COUNTRY_IND   47.833860\n",
       "35  COUNTRY_HUN   57.255362\n",
       "36  COUNTRY_ITA   65.309526\n",
       "37  COUNTRY_COL   65.518668\n",
       "38  COUNTRY_FRA   65.929850\n",
       "39  COUNTRY_MEX   66.606321\n",
       "40  COUNTRY_IRL   81.179324\n",
       "41  COUNTRY_TUR   84.494752\n",
       "42  COUNTRY_CHL   97.434455\n",
       "43  COUNTRY_ARG  114.514590\n",
       "44  COUNTRY_GBR  130.819780\n",
       "45  COUNTRY_GRC  137.609689"
      ]
     },
     "execution_count": 148,
     "metadata": {},
     "output_type": "execute_result"
    }
   ],
   "source": [
    "res = pd.DataFrame({'Country': np.array(mses)[:, 1], \n",
    "                    'MSE': np.array(mses)[:, 0].astype('float64')})\n",
    "res.sort_values(by='MSE').reset_index(drop=True)"
   ]
  },
  {
   "cell_type": "markdown",
   "id": "9dn-Wy5ug2fS",
   "metadata": {
    "id": "9dn-Wy5ug2fS"
   },
   "source": [
    "#### Построение графиков"
   ]
  },
  {
   "cell_type": "code",
   "execution_count": 70,
   "id": "fa80bfb6",
   "metadata": {},
   "outputs": [],
   "source": [
    "def plot_ts(ticker):\n",
    "    ind_pred = preds_ens[np.array(gdp_test_final[f'location_{ticker}'] == 1)] / 5\n",
    "    ind_data = np.array(gdp_test_final[gdp_test_final[f'location_{ticker}'] == 1]['value'])\n",
    "    ax = plt.gca()\n",
    "    plt.plot(ind_pred, label='pred')\n",
    "    plt.plot(ind_data, label='val and test')\n",
    "    ax.legend()\n",
    "    plt.title(f'{ticker}',fontsize = 25)\n",
    "    plt.ylabel('GDP Growth')"
   ]
  },
  {
   "cell_type": "markdown",
   "id": "7a37a5a8",
   "metadata": {},
   "source": [
    "Графики для 10 самых лучших стран по MSE:"
   ]
  },
  {
   "cell_type": "code",
   "execution_count": 83,
   "id": "ddf05cfd",
   "metadata": {
    "scrolled": false
   },
   "outputs": [
    {
     "data": {
      "image/png": "[encoded data removed]",
      "text/plain": [
       "<Figure size 1440x1440 with 10 Axes>"
      ]
     },
     "metadata": {
      "needs_background": "light"
     },
     "output_type": "display_data"
    }
   ],
   "source": [
    "fig, axs = plt.subplots(5, 2, sharex=True, figsize=(20, 20))\n",
    "date_index = pd.date_range('2021-01-03', periods=52, freq='W') \n",
    "\n",
    "for ticker, ax in zip(sorted(mses)[:10], axs.reshape(-1)):\n",
    "    ind_pred = preds_ens[np.array(gdp_test_final[f'location_{ticker[1][-3:]}'] == 1)] / 5\n",
    "    ind_data = np.array(gdp_test_final[gdp_test_final[f'location_{ticker[1][-3:]}'] == 1]['value'])\n",
    "    \n",
    "    ax.plot(date_index, ind_pred, label='pred')\n",
    "    ax.plot(date_index, ind_data, label='val and test')\n",
    "    \n",
    "    ax.legend()\n",
    "    ax.set_title(f'{ticker[1][-3:]}',fontsize = 25)\n",
    "    ax.set_ylabel('GDP Growth')"
   ]
  },
  {
   "cell_type": "markdown",
   "id": "e1148840",
   "metadata": {},
   "source": [
    "График для России:"
   ]
  },
  {
   "cell_type": "code",
   "execution_count": 120,
   "id": "4b8c45ee",
   "metadata": {},
   "outputs": [
    {
     "data": {
      "image/png": "[encoded data removed]",
      "text/plain": [
       "<Figure size 720x360 with 1 Axes>"
      ]
     },
     "metadata": {
      "needs_background": "light"
     },
     "output_type": "display_data"
    }
   ],
   "source": [
    "plt.figure(figsize=(10, 5))\n",
    "date_index = pd.date_range('2021-01-03', periods=39, freq='W') \n",
    "\n",
    "ind_pred = preds_ens[np.array(gdp_test_final[f'location_RUS'] == 1)]\n",
    "ind_data = np.array(gdp_test_final[gdp_test_final[f'location_RUS'] == 1]['value'])\n",
    "\n",
    "plt.plot(date_index, ind_pred, label='pred')\n",
    "plt.plot(date_index, ind_data, label='val and test')\n",
    "\n",
    "plt.legend()\n",
    "plt.title(f'Russia',fontsize = 15)\n",
    "plt.ylabel('GDP Growth');"
   ]
  },
  {
   "cell_type": "markdown",
   "id": "e0f4bd6c",
   "metadata": {},
   "source": [
    "### Выводы\n",
    "Как мы можем убедиться, для большинства стран (не включая Россию) индикатор действительно повторяет направление изменения прироста ВВП, существование ошибки может заключаться в недостаточном количестве признаков, шуме в данных и, что самое очевидное, в том, что данные для ВВП не являются 'настоящими' - это всего лишь линейная интерполяция.\n",
    "\n",
    "Из полученных результатов видно, что полносвязная сеть показывает себя лучше стат. моделей и бустинга. Поэтому можно считать, что индикатор экономической активности построен относительно успешно."
   ]
  },
  {
   "cell_type": "code",
   "execution_count": null,
   "id": "d606581e",
   "metadata": {},
   "outputs": [],
   "source": []
  }
 ],
 "metadata": {
  "colab": {
   "name": "Project_GT_Models.ipynb",
   "provenance": []
  },
  "kernelspec": {
   "display_name": "Python 3 (ipykernel)",
   "language": "python",
   "name": "python3"
  },
  "language_info": {
   "codemirror_mode": {
    "name": "ipython",
    "version": 3
   },
   "file_extension": ".py",
   "mimetype": "text/x-python",
   "name": "python",
   "nbconvert_exporter": "python",
   "pygments_lexer": "ipython3",
   "version": "3.10.2"
  },
  "vscode": {
   "interpreter": {
    "hash": "b0fa6594d8f4cbf19f97940f81e996739fb7646882a419484c72d19e05852a7e"
   }
  }
 },
 "nbformat": 4,
 "nbformat_minor": 5
}
